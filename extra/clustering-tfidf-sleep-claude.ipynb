{
 "cells": [
  {
   "cell_type": "markdown",
   "metadata": {
    "id": "776hoitZRV93"
   },
   "source": [
    "### Clustering of sleep text scores using TF-IDF"
   ]
  },
  {
   "cell_type": "markdown",
   "metadata": {
    "id": "vzP6EJzwRV95"
   },
   "source": [
    "#### Import libraries  "
   ]
  },
  {
   "cell_type": "code",
   "execution_count": 1,
   "metadata": {
    "executionInfo": {
     "elapsed": 5792,
     "status": "ok",
     "timestamp": 1736253994213,
     "user": {
      "displayName": "Haruto KAWABATA",
      "userId": "07629425452397739361"
     },
     "user_tz": -540
    },
    "id": "4hYJhIV_RV96"
   },
   "outputs": [],
   "source": [
    "import os\n",
    "os.environ['OMP_NUM_THREADS'] = '1'\n",
    "\n",
    "import numpy as np\n",
    "import pandas as pd\n",
    "import matplotlib.pyplot as plt\n",
    "from sklearn.feature_extraction.text import TfidfVectorizer\n",
    "from sklearn.cluster import KMeans\n",
    "from sklearn.decomposition import PCA\n",
    "from sklearn.manifold import TSNE\n",
    "from sklearn.metrics.pairwise import cosine_similarity"
   ]
  },
  {
   "cell_type": "markdown",
   "metadata": {
    "id": "HiXJsIoqRgcr"
   },
   "source": [
    "#### Setup working directory"
   ]
  },
  {
   "cell_type": "code",
   "execution_count": 2,
   "metadata": {
    "colab": {
     "base_uri": "https://localhost:8080/"
    },
    "executionInfo": {
     "elapsed": 22585,
     "status": "ok",
     "timestamp": 1736254016794,
     "user": {
      "displayName": "Haruto KAWABATA",
      "userId": "07629425452397739361"
     },
     "user_tz": -540
    },
    "id": "ZX1982UmRgxg",
    "outputId": "dd2ac2c8-ef0f-4eb6-9b8e-2d3c89ef8618"
   },
   "outputs": [
    {
     "name": "stdout",
     "output_type": "stream",
     "text": [
      "Mounted at /content/drive\n",
      "/content/drive/MyDrive/Documents/ds2024/dsF1\n"
     ]
    }
   ],
   "source": [
    "from google.colab import drive\n",
    "drive.mount('/content/drive')\n",
    "%cd /content/drive/MyDrive/Documents/ds2024/dsF1/"
   ]
  },
  {
   "cell_type": "markdown",
   "metadata": {
    "id": "9VF77D4IRV97"
   },
   "source": [
    "#### Parameters  "
   ]
  },
  {
   "cell_type": "code",
   "execution_count": 3,
   "metadata": {
    "executionInfo": {
     "elapsed": 5,
     "status": "ok",
     "timestamp": 1736254016794,
     "user": {
      "displayName": "Haruto KAWABATA",
      "userId": "07629425452397739361"
     },
     "user_tz": -540
    },
    "id": "2LdC-oNDRV97"
   },
   "outputs": [],
   "source": [
    "csv_in = 'sleep-text-score-wakati.csv'"
   ]
  },
  {
   "cell_type": "markdown",
   "metadata": {
    "id": "JFppuPgGRV97"
   },
   "source": [
    "#### Read CSV file  "
   ]
  },
  {
   "cell_type": "code",
   "execution_count": 4,
   "metadata": {
    "colab": {
     "base_uri": "https://localhost:8080/",
     "height": 0
    },
    "executionInfo": {
     "elapsed": 1025,
     "status": "ok",
     "timestamp": 1736254017814,
     "user": {
      "displayName": "Haruto KAWABATA",
      "userId": "07629425452397739361"
     },
     "user_tz": -540
    },
    "id": "pDQ14CkcRV97",
    "outputId": "eaece6c8-45f0-4077-b12c-dd70ff5a87cb"
   },
   "outputs": [
    {
     "name": "stdout",
     "output_type": "stream",
     "text": [
      "(426, 4)\n",
      "<class 'pandas.core.frame.DataFrame'>\n",
      "RangeIndex: 426 entries, 0 to 425\n",
      "Data columns (total 4 columns):\n",
      " #   Column             Non-Null Count  Dtype \n",
      "---  ------             --------------  ----- \n",
      " 0   text               426 non-null    object\n",
      " 1   GPT-4o             426 non-null    int64 \n",
      " 2   Gemini-1.5-Pro     426 non-null    int64 \n",
      " 3   Claude-3.5-Sonnet  426 non-null    int64 \n",
      "dtypes: int64(3), object(1)\n",
      "memory usage: 13.4+ KB\n",
      "None\n"
     ]
    },
    {
     "data": {
      "application/vnd.google.colaboratory.intrinsic+json": {
       "summary": "{\n  \"name\": \"display(df\",\n  \"rows\": 5,\n  \"fields\": [\n    {\n      \"column\": \"text\",\n      \"properties\": {\n        \"dtype\": \"string\",\n        \"num_unique_values\": 5,\n        \"samples\": [\n          \"\\u671d\\u65e5 \\u7a4d\\u6975\\u7684 \\u6d74\\u3073\\u308b\",\n          \"\\u5bdd\\u5177 \\u5b9a\\u671f\\u7684 \\u6e05\\u6f54 \\u4fdd\\u3064\",\n          \"\\u5bdd\\u5ba4 \\u6e29\\u5ea6 18 -22\\u5ea6 \\u4fdd\\u3064\"\n        ],\n        \"semantic_type\": \"\",\n        \"description\": \"\"\n      }\n    },\n    {\n      \"column\": \"GPT-4o\",\n      \"properties\": {\n        \"dtype\": \"number\",\n        \"std\": 0,\n        \"min\": 2,\n        \"max\": 2,\n        \"num_unique_values\": 1,\n        \"samples\": [\n          2\n        ],\n        \"semantic_type\": \"\",\n        \"description\": \"\"\n      }\n    },\n    {\n      \"column\": \"Gemini-1.5-Pro\",\n      \"properties\": {\n        \"dtype\": \"number\",\n        \"std\": 0,\n        \"min\": 2,\n        \"max\": 2,\n        \"num_unique_values\": 1,\n        \"samples\": [\n          2\n        ],\n        \"semantic_type\": \"\",\n        \"description\": \"\"\n      }\n    },\n    {\n      \"column\": \"Claude-3.5-Sonnet\",\n      \"properties\": {\n        \"dtype\": \"number\",\n        \"std\": 0,\n        \"min\": 2,\n        \"max\": 2,\n        \"num_unique_values\": 1,\n        \"samples\": [\n          2\n        ],\n        \"semantic_type\": \"\",\n        \"description\": \"\"\n      }\n    }\n  ]\n}",
       "type": "dataframe"
      },
      "text/html": [
       "\n",
       "  <div id=\"df-98d8b5ac-5f26-4bcb-a7eb-3408cff22096\" class=\"colab-df-container\">\n",
       "    <div>\n",
       "<style scoped>\n",
       "    .dataframe tbody tr th:only-of-type {\n",
       "        vertical-align: middle;\n",
       "    }\n",
       "\n",
       "    .dataframe tbody tr th {\n",
       "        vertical-align: top;\n",
       "    }\n",
       "\n",
       "    .dataframe thead th {\n",
       "        text-align: right;\n",
       "    }\n",
       "</style>\n",
       "<table border=\"1\" class=\"dataframe\">\n",
       "  <thead>\n",
       "    <tr style=\"text-align: right;\">\n",
       "      <th></th>\n",
       "      <th>text</th>\n",
       "      <th>GPT-4o</th>\n",
       "      <th>Gemini-1.5-Pro</th>\n",
       "      <th>Claude-3.5-Sonnet</th>\n",
       "    </tr>\n",
       "  </thead>\n",
       "  <tbody>\n",
       "    <tr>\n",
       "      <th>0</th>\n",
       "      <td>就寝 時間 毎日 一定 する</td>\n",
       "      <td>2</td>\n",
       "      <td>2</td>\n",
       "      <td>2</td>\n",
       "    </tr>\n",
       "    <tr>\n",
       "      <th>1</th>\n",
       "      <td>朝日 積極的 浴びる</td>\n",
       "      <td>2</td>\n",
       "      <td>2</td>\n",
       "      <td>2</td>\n",
       "    </tr>\n",
       "    <tr>\n",
       "      <th>2</th>\n",
       "      <td>寝室 温度 18 -22度 保つ</td>\n",
       "      <td>2</td>\n",
       "      <td>2</td>\n",
       "      <td>2</td>\n",
       "    </tr>\n",
       "    <tr>\n",
       "      <th>3</th>\n",
       "      <td>就寝 前 ストレッチ 体 リラックス さ せる</td>\n",
       "      <td>2</td>\n",
       "      <td>2</td>\n",
       "      <td>2</td>\n",
       "    </tr>\n",
       "    <tr>\n",
       "      <th>4</th>\n",
       "      <td>寝具 定期的 清潔 保つ</td>\n",
       "      <td>2</td>\n",
       "      <td>2</td>\n",
       "      <td>2</td>\n",
       "    </tr>\n",
       "  </tbody>\n",
       "</table>\n",
       "</div>\n",
       "    <div class=\"colab-df-buttons\">\n",
       "\n",
       "  <div class=\"colab-df-container\">\n",
       "    <button class=\"colab-df-convert\" onclick=\"convertToInteractive('df-98d8b5ac-5f26-4bcb-a7eb-3408cff22096')\"\n",
       "            title=\"Convert this dataframe to an interactive table.\"\n",
       "            style=\"display:none;\">\n",
       "\n",
       "  <svg xmlns=\"http://www.w3.org/2000/svg\" height=\"24px\" viewBox=\"0 -960 960 960\">\n",
       "    <path d=\"M120-120v-720h720v720H120Zm60-500h600v-160H180v160Zm220 220h160v-160H400v160Zm0 220h160v-160H400v160ZM180-400h160v-160H180v160Zm440 0h160v-160H620v160ZM180-180h160v-160H180v160Zm440 0h160v-160H620v160Z\"/>\n",
       "  </svg>\n",
       "    </button>\n",
       "\n",
       "  <style>\n",
       "    .colab-df-container {\n",
       "      display:flex;\n",
       "      gap: 12px;\n",
       "    }\n",
       "\n",
       "    .colab-df-convert {\n",
       "      background-color: #E8F0FE;\n",
       "      border: none;\n",
       "      border-radius: 50%;\n",
       "      cursor: pointer;\n",
       "      display: none;\n",
       "      fill: #1967D2;\n",
       "      height: 32px;\n",
       "      padding: 0 0 0 0;\n",
       "      width: 32px;\n",
       "    }\n",
       "\n",
       "    .colab-df-convert:hover {\n",
       "      background-color: #E2EBFA;\n",
       "      box-shadow: 0px 1px 2px rgba(60, 64, 67, 0.3), 0px 1px 3px 1px rgba(60, 64, 67, 0.15);\n",
       "      fill: #174EA6;\n",
       "    }\n",
       "\n",
       "    .colab-df-buttons div {\n",
       "      margin-bottom: 4px;\n",
       "    }\n",
       "\n",
       "    [theme=dark] .colab-df-convert {\n",
       "      background-color: #3B4455;\n",
       "      fill: #D2E3FC;\n",
       "    }\n",
       "\n",
       "    [theme=dark] .colab-df-convert:hover {\n",
       "      background-color: #434B5C;\n",
       "      box-shadow: 0px 1px 3px 1px rgba(0, 0, 0, 0.15);\n",
       "      filter: drop-shadow(0px 1px 2px rgba(0, 0, 0, 0.3));\n",
       "      fill: #FFFFFF;\n",
       "    }\n",
       "  </style>\n",
       "\n",
       "    <script>\n",
       "      const buttonEl =\n",
       "        document.querySelector('#df-98d8b5ac-5f26-4bcb-a7eb-3408cff22096 button.colab-df-convert');\n",
       "      buttonEl.style.display =\n",
       "        google.colab.kernel.accessAllowed ? 'block' : 'none';\n",
       "\n",
       "      async function convertToInteractive(key) {\n",
       "        const element = document.querySelector('#df-98d8b5ac-5f26-4bcb-a7eb-3408cff22096');\n",
       "        const dataTable =\n",
       "          await google.colab.kernel.invokeFunction('convertToInteractive',\n",
       "                                                    [key], {});\n",
       "        if (!dataTable) return;\n",
       "\n",
       "        const docLinkHtml = 'Like what you see? Visit the ' +\n",
       "          '<a target=\"_blank\" href=https://colab.research.google.com/notebooks/data_table.ipynb>data table notebook</a>'\n",
       "          + ' to learn more about interactive tables.';\n",
       "        element.innerHTML = '';\n",
       "        dataTable['output_type'] = 'display_data';\n",
       "        await google.colab.output.renderOutput(dataTable, element);\n",
       "        const docLink = document.createElement('div');\n",
       "        docLink.innerHTML = docLinkHtml;\n",
       "        element.appendChild(docLink);\n",
       "      }\n",
       "    </script>\n",
       "  </div>\n",
       "\n",
       "\n",
       "<div id=\"df-a772c262-d790-4471-9b5c-502543d2d20a\">\n",
       "  <button class=\"colab-df-quickchart\" onclick=\"quickchart('df-a772c262-d790-4471-9b5c-502543d2d20a')\"\n",
       "            title=\"Suggest charts\"\n",
       "            style=\"display:none;\">\n",
       "\n",
       "<svg xmlns=\"http://www.w3.org/2000/svg\" height=\"24px\"viewBox=\"0 0 24 24\"\n",
       "     width=\"24px\">\n",
       "    <g>\n",
       "        <path d=\"M19 3H5c-1.1 0-2 .9-2 2v14c0 1.1.9 2 2 2h14c1.1 0 2-.9 2-2V5c0-1.1-.9-2-2-2zM9 17H7v-7h2v7zm4 0h-2V7h2v10zm4 0h-2v-4h2v4z\"/>\n",
       "    </g>\n",
       "</svg>\n",
       "  </button>\n",
       "\n",
       "<style>\n",
       "  .colab-df-quickchart {\n",
       "      --bg-color: #E8F0FE;\n",
       "      --fill-color: #1967D2;\n",
       "      --hover-bg-color: #E2EBFA;\n",
       "      --hover-fill-color: #174EA6;\n",
       "      --disabled-fill-color: #AAA;\n",
       "      --disabled-bg-color: #DDD;\n",
       "  }\n",
       "\n",
       "  [theme=dark] .colab-df-quickchart {\n",
       "      --bg-color: #3B4455;\n",
       "      --fill-color: #D2E3FC;\n",
       "      --hover-bg-color: #434B5C;\n",
       "      --hover-fill-color: #FFFFFF;\n",
       "      --disabled-bg-color: #3B4455;\n",
       "      --disabled-fill-color: #666;\n",
       "  }\n",
       "\n",
       "  .colab-df-quickchart {\n",
       "    background-color: var(--bg-color);\n",
       "    border: none;\n",
       "    border-radius: 50%;\n",
       "    cursor: pointer;\n",
       "    display: none;\n",
       "    fill: var(--fill-color);\n",
       "    height: 32px;\n",
       "    padding: 0;\n",
       "    width: 32px;\n",
       "  }\n",
       "\n",
       "  .colab-df-quickchart:hover {\n",
       "    background-color: var(--hover-bg-color);\n",
       "    box-shadow: 0 1px 2px rgba(60, 64, 67, 0.3), 0 1px 3px 1px rgba(60, 64, 67, 0.15);\n",
       "    fill: var(--button-hover-fill-color);\n",
       "  }\n",
       "\n",
       "  .colab-df-quickchart-complete:disabled,\n",
       "  .colab-df-quickchart-complete:disabled:hover {\n",
       "    background-color: var(--disabled-bg-color);\n",
       "    fill: var(--disabled-fill-color);\n",
       "    box-shadow: none;\n",
       "  }\n",
       "\n",
       "  .colab-df-spinner {\n",
       "    border: 2px solid var(--fill-color);\n",
       "    border-color: transparent;\n",
       "    border-bottom-color: var(--fill-color);\n",
       "    animation:\n",
       "      spin 1s steps(1) infinite;\n",
       "  }\n",
       "\n",
       "  @keyframes spin {\n",
       "    0% {\n",
       "      border-color: transparent;\n",
       "      border-bottom-color: var(--fill-color);\n",
       "      border-left-color: var(--fill-color);\n",
       "    }\n",
       "    20% {\n",
       "      border-color: transparent;\n",
       "      border-left-color: var(--fill-color);\n",
       "      border-top-color: var(--fill-color);\n",
       "    }\n",
       "    30% {\n",
       "      border-color: transparent;\n",
       "      border-left-color: var(--fill-color);\n",
       "      border-top-color: var(--fill-color);\n",
       "      border-right-color: var(--fill-color);\n",
       "    }\n",
       "    40% {\n",
       "      border-color: transparent;\n",
       "      border-right-color: var(--fill-color);\n",
       "      border-top-color: var(--fill-color);\n",
       "    }\n",
       "    60% {\n",
       "      border-color: transparent;\n",
       "      border-right-color: var(--fill-color);\n",
       "    }\n",
       "    80% {\n",
       "      border-color: transparent;\n",
       "      border-right-color: var(--fill-color);\n",
       "      border-bottom-color: var(--fill-color);\n",
       "    }\n",
       "    90% {\n",
       "      border-color: transparent;\n",
       "      border-bottom-color: var(--fill-color);\n",
       "    }\n",
       "  }\n",
       "</style>\n",
       "\n",
       "  <script>\n",
       "    async function quickchart(key) {\n",
       "      const quickchartButtonEl =\n",
       "        document.querySelector('#' + key + ' button');\n",
       "      quickchartButtonEl.disabled = true;  // To prevent multiple clicks.\n",
       "      quickchartButtonEl.classList.add('colab-df-spinner');\n",
       "      try {\n",
       "        const charts = await google.colab.kernel.invokeFunction(\n",
       "            'suggestCharts', [key], {});\n",
       "      } catch (error) {\n",
       "        console.error('Error during call to suggestCharts:', error);\n",
       "      }\n",
       "      quickchartButtonEl.classList.remove('colab-df-spinner');\n",
       "      quickchartButtonEl.classList.add('colab-df-quickchart-complete');\n",
       "    }\n",
       "    (() => {\n",
       "      let quickchartButtonEl =\n",
       "        document.querySelector('#df-a772c262-d790-4471-9b5c-502543d2d20a button');\n",
       "      quickchartButtonEl.style.display =\n",
       "        google.colab.kernel.accessAllowed ? 'block' : 'none';\n",
       "    })();\n",
       "  </script>\n",
       "</div>\n",
       "\n",
       "    </div>\n",
       "  </div>\n"
      ],
      "text/plain": [
       "                      text  GPT-4o  Gemini-1.5-Pro  Claude-3.5-Sonnet\n",
       "0           就寝 時間 毎日 一定 する       2               2                  2\n",
       "1               朝日 積極的 浴びる       2               2                  2\n",
       "2         寝室 温度 18 -22度 保つ       2               2                  2\n",
       "3  就寝 前 ストレッチ 体 リラックス さ せる       2               2                  2\n",
       "4             寝具 定期的 清潔 保つ       2               2                  2"
      ]
     },
     "metadata": {},
     "output_type": "display_data"
    }
   ],
   "source": [
    "df = pd.read_csv(csv_in, sep=',', skiprows=0, header=0)\n",
    "print(df.shape)\n",
    "print(df.info())\n",
    "display(df.head())"
   ]
  },
  {
   "cell_type": "code",
   "execution_count": 5,
   "metadata": {
    "colab": {
     "base_uri": "https://localhost:8080/",
     "height": 0
    },
    "executionInfo": {
     "elapsed": 26,
     "status": "ok",
     "timestamp": 1736254017814,
     "user": {
      "displayName": "Haruto KAWABATA",
      "userId": "07629425452397739361"
     },
     "user_tz": -540
    },
    "id": "QYMhUMu70ph_",
    "outputId": "2aac9a8c-6ffb-4704-fe8b-6cf4ee4be77e"
   },
   "outputs": [
    {
     "name": "stdout",
     "output_type": "stream",
     "text": [
      "(426, 2)\n",
      "<class 'pandas.core.frame.DataFrame'>\n",
      "RangeIndex: 426 entries, 0 to 425\n",
      "Data columns (total 2 columns):\n",
      " #   Column             Non-Null Count  Dtype \n",
      "---  ------             --------------  ----- \n",
      " 0   text               426 non-null    object\n",
      " 1   Claude-3.5-Sonnet  426 non-null    int64 \n",
      "dtypes: int64(1), object(1)\n",
      "memory usage: 6.8+ KB\n",
      "None\n"
     ]
    },
    {
     "data": {
      "application/vnd.google.colaboratory.intrinsic+json": {
       "summary": "{\n  \"name\": \"display(df\",\n  \"rows\": 5,\n  \"fields\": [\n    {\n      \"column\": \"text\",\n      \"properties\": {\n        \"dtype\": \"string\",\n        \"num_unique_values\": 5,\n        \"samples\": [\n          \"\\u671d\\u65e5 \\u7a4d\\u6975\\u7684 \\u6d74\\u3073\\u308b\",\n          \"\\u5bdd\\u5177 \\u5b9a\\u671f\\u7684 \\u6e05\\u6f54 \\u4fdd\\u3064\",\n          \"\\u5bdd\\u5ba4 \\u6e29\\u5ea6 18 -22\\u5ea6 \\u4fdd\\u3064\"\n        ],\n        \"semantic_type\": \"\",\n        \"description\": \"\"\n      }\n    },\n    {\n      \"column\": \"Claude-3.5-Sonnet\",\n      \"properties\": {\n        \"dtype\": \"number\",\n        \"std\": 0,\n        \"min\": 2,\n        \"max\": 2,\n        \"num_unique_values\": 1,\n        \"samples\": [\n          2\n        ],\n        \"semantic_type\": \"\",\n        \"description\": \"\"\n      }\n    }\n  ]\n}",
       "type": "dataframe"
      },
      "text/html": [
       "\n",
       "  <div id=\"df-f91cd295-9dee-4b13-923d-be0c9846f220\" class=\"colab-df-container\">\n",
       "    <div>\n",
       "<style scoped>\n",
       "    .dataframe tbody tr th:only-of-type {\n",
       "        vertical-align: middle;\n",
       "    }\n",
       "\n",
       "    .dataframe tbody tr th {\n",
       "        vertical-align: top;\n",
       "    }\n",
       "\n",
       "    .dataframe thead th {\n",
       "        text-align: right;\n",
       "    }\n",
       "</style>\n",
       "<table border=\"1\" class=\"dataframe\">\n",
       "  <thead>\n",
       "    <tr style=\"text-align: right;\">\n",
       "      <th></th>\n",
       "      <th>text</th>\n",
       "      <th>Claude-3.5-Sonnet</th>\n",
       "    </tr>\n",
       "  </thead>\n",
       "  <tbody>\n",
       "    <tr>\n",
       "      <th>0</th>\n",
       "      <td>就寝 時間 毎日 一定 する</td>\n",
       "      <td>2</td>\n",
       "    </tr>\n",
       "    <tr>\n",
       "      <th>1</th>\n",
       "      <td>朝日 積極的 浴びる</td>\n",
       "      <td>2</td>\n",
       "    </tr>\n",
       "    <tr>\n",
       "      <th>2</th>\n",
       "      <td>寝室 温度 18 -22度 保つ</td>\n",
       "      <td>2</td>\n",
       "    </tr>\n",
       "    <tr>\n",
       "      <th>3</th>\n",
       "      <td>就寝 前 ストレッチ 体 リラックス さ せる</td>\n",
       "      <td>2</td>\n",
       "    </tr>\n",
       "    <tr>\n",
       "      <th>4</th>\n",
       "      <td>寝具 定期的 清潔 保つ</td>\n",
       "      <td>2</td>\n",
       "    </tr>\n",
       "  </tbody>\n",
       "</table>\n",
       "</div>\n",
       "    <div class=\"colab-df-buttons\">\n",
       "\n",
       "  <div class=\"colab-df-container\">\n",
       "    <button class=\"colab-df-convert\" onclick=\"convertToInteractive('df-f91cd295-9dee-4b13-923d-be0c9846f220')\"\n",
       "            title=\"Convert this dataframe to an interactive table.\"\n",
       "            style=\"display:none;\">\n",
       "\n",
       "  <svg xmlns=\"http://www.w3.org/2000/svg\" height=\"24px\" viewBox=\"0 -960 960 960\">\n",
       "    <path d=\"M120-120v-720h720v720H120Zm60-500h600v-160H180v160Zm220 220h160v-160H400v160Zm0 220h160v-160H400v160ZM180-400h160v-160H180v160Zm440 0h160v-160H620v160ZM180-180h160v-160H180v160Zm440 0h160v-160H620v160Z\"/>\n",
       "  </svg>\n",
       "    </button>\n",
       "\n",
       "  <style>\n",
       "    .colab-df-container {\n",
       "      display:flex;\n",
       "      gap: 12px;\n",
       "    }\n",
       "\n",
       "    .colab-df-convert {\n",
       "      background-color: #E8F0FE;\n",
       "      border: none;\n",
       "      border-radius: 50%;\n",
       "      cursor: pointer;\n",
       "      display: none;\n",
       "      fill: #1967D2;\n",
       "      height: 32px;\n",
       "      padding: 0 0 0 0;\n",
       "      width: 32px;\n",
       "    }\n",
       "\n",
       "    .colab-df-convert:hover {\n",
       "      background-color: #E2EBFA;\n",
       "      box-shadow: 0px 1px 2px rgba(60, 64, 67, 0.3), 0px 1px 3px 1px rgba(60, 64, 67, 0.15);\n",
       "      fill: #174EA6;\n",
       "    }\n",
       "\n",
       "    .colab-df-buttons div {\n",
       "      margin-bottom: 4px;\n",
       "    }\n",
       "\n",
       "    [theme=dark] .colab-df-convert {\n",
       "      background-color: #3B4455;\n",
       "      fill: #D2E3FC;\n",
       "    }\n",
       "\n",
       "    [theme=dark] .colab-df-convert:hover {\n",
       "      background-color: #434B5C;\n",
       "      box-shadow: 0px 1px 3px 1px rgba(0, 0, 0, 0.15);\n",
       "      filter: drop-shadow(0px 1px 2px rgba(0, 0, 0, 0.3));\n",
       "      fill: #FFFFFF;\n",
       "    }\n",
       "  </style>\n",
       "\n",
       "    <script>\n",
       "      const buttonEl =\n",
       "        document.querySelector('#df-f91cd295-9dee-4b13-923d-be0c9846f220 button.colab-df-convert');\n",
       "      buttonEl.style.display =\n",
       "        google.colab.kernel.accessAllowed ? 'block' : 'none';\n",
       "\n",
       "      async function convertToInteractive(key) {\n",
       "        const element = document.querySelector('#df-f91cd295-9dee-4b13-923d-be0c9846f220');\n",
       "        const dataTable =\n",
       "          await google.colab.kernel.invokeFunction('convertToInteractive',\n",
       "                                                    [key], {});\n",
       "        if (!dataTable) return;\n",
       "\n",
       "        const docLinkHtml = 'Like what you see? Visit the ' +\n",
       "          '<a target=\"_blank\" href=https://colab.research.google.com/notebooks/data_table.ipynb>data table notebook</a>'\n",
       "          + ' to learn more about interactive tables.';\n",
       "        element.innerHTML = '';\n",
       "        dataTable['output_type'] = 'display_data';\n",
       "        await google.colab.output.renderOutput(dataTable, element);\n",
       "        const docLink = document.createElement('div');\n",
       "        docLink.innerHTML = docLinkHtml;\n",
       "        element.appendChild(docLink);\n",
       "      }\n",
       "    </script>\n",
       "  </div>\n",
       "\n",
       "\n",
       "<div id=\"df-45a000e9-6549-401a-8c9d-0af42560a059\">\n",
       "  <button class=\"colab-df-quickchart\" onclick=\"quickchart('df-45a000e9-6549-401a-8c9d-0af42560a059')\"\n",
       "            title=\"Suggest charts\"\n",
       "            style=\"display:none;\">\n",
       "\n",
       "<svg xmlns=\"http://www.w3.org/2000/svg\" height=\"24px\"viewBox=\"0 0 24 24\"\n",
       "     width=\"24px\">\n",
       "    <g>\n",
       "        <path d=\"M19 3H5c-1.1 0-2 .9-2 2v14c0 1.1.9 2 2 2h14c1.1 0 2-.9 2-2V5c0-1.1-.9-2-2-2zM9 17H7v-7h2v7zm4 0h-2V7h2v10zm4 0h-2v-4h2v4z\"/>\n",
       "    </g>\n",
       "</svg>\n",
       "  </button>\n",
       "\n",
       "<style>\n",
       "  .colab-df-quickchart {\n",
       "      --bg-color: #E8F0FE;\n",
       "      --fill-color: #1967D2;\n",
       "      --hover-bg-color: #E2EBFA;\n",
       "      --hover-fill-color: #174EA6;\n",
       "      --disabled-fill-color: #AAA;\n",
       "      --disabled-bg-color: #DDD;\n",
       "  }\n",
       "\n",
       "  [theme=dark] .colab-df-quickchart {\n",
       "      --bg-color: #3B4455;\n",
       "      --fill-color: #D2E3FC;\n",
       "      --hover-bg-color: #434B5C;\n",
       "      --hover-fill-color: #FFFFFF;\n",
       "      --disabled-bg-color: #3B4455;\n",
       "      --disabled-fill-color: #666;\n",
       "  }\n",
       "\n",
       "  .colab-df-quickchart {\n",
       "    background-color: var(--bg-color);\n",
       "    border: none;\n",
       "    border-radius: 50%;\n",
       "    cursor: pointer;\n",
       "    display: none;\n",
       "    fill: var(--fill-color);\n",
       "    height: 32px;\n",
       "    padding: 0;\n",
       "    width: 32px;\n",
       "  }\n",
       "\n",
       "  .colab-df-quickchart:hover {\n",
       "    background-color: var(--hover-bg-color);\n",
       "    box-shadow: 0 1px 2px rgba(60, 64, 67, 0.3), 0 1px 3px 1px rgba(60, 64, 67, 0.15);\n",
       "    fill: var(--button-hover-fill-color);\n",
       "  }\n",
       "\n",
       "  .colab-df-quickchart-complete:disabled,\n",
       "  .colab-df-quickchart-complete:disabled:hover {\n",
       "    background-color: var(--disabled-bg-color);\n",
       "    fill: var(--disabled-fill-color);\n",
       "    box-shadow: none;\n",
       "  }\n",
       "\n",
       "  .colab-df-spinner {\n",
       "    border: 2px solid var(--fill-color);\n",
       "    border-color: transparent;\n",
       "    border-bottom-color: var(--fill-color);\n",
       "    animation:\n",
       "      spin 1s steps(1) infinite;\n",
       "  }\n",
       "\n",
       "  @keyframes spin {\n",
       "    0% {\n",
       "      border-color: transparent;\n",
       "      border-bottom-color: var(--fill-color);\n",
       "      border-left-color: var(--fill-color);\n",
       "    }\n",
       "    20% {\n",
       "      border-color: transparent;\n",
       "      border-left-color: var(--fill-color);\n",
       "      border-top-color: var(--fill-color);\n",
       "    }\n",
       "    30% {\n",
       "      border-color: transparent;\n",
       "      border-left-color: var(--fill-color);\n",
       "      border-top-color: var(--fill-color);\n",
       "      border-right-color: var(--fill-color);\n",
       "    }\n",
       "    40% {\n",
       "      border-color: transparent;\n",
       "      border-right-color: var(--fill-color);\n",
       "      border-top-color: var(--fill-color);\n",
       "    }\n",
       "    60% {\n",
       "      border-color: transparent;\n",
       "      border-right-color: var(--fill-color);\n",
       "    }\n",
       "    80% {\n",
       "      border-color: transparent;\n",
       "      border-right-color: var(--fill-color);\n",
       "      border-bottom-color: var(--fill-color);\n",
       "    }\n",
       "    90% {\n",
       "      border-color: transparent;\n",
       "      border-bottom-color: var(--fill-color);\n",
       "    }\n",
       "  }\n",
       "</style>\n",
       "\n",
       "  <script>\n",
       "    async function quickchart(key) {\n",
       "      const quickchartButtonEl =\n",
       "        document.querySelector('#' + key + ' button');\n",
       "      quickchartButtonEl.disabled = true;  // To prevent multiple clicks.\n",
       "      quickchartButtonEl.classList.add('colab-df-spinner');\n",
       "      try {\n",
       "        const charts = await google.colab.kernel.invokeFunction(\n",
       "            'suggestCharts', [key], {});\n",
       "      } catch (error) {\n",
       "        console.error('Error during call to suggestCharts:', error);\n",
       "      }\n",
       "      quickchartButtonEl.classList.remove('colab-df-spinner');\n",
       "      quickchartButtonEl.classList.add('colab-df-quickchart-complete');\n",
       "    }\n",
       "    (() => {\n",
       "      let quickchartButtonEl =\n",
       "        document.querySelector('#df-45a000e9-6549-401a-8c9d-0af42560a059 button');\n",
       "      quickchartButtonEl.style.display =\n",
       "        google.colab.kernel.accessAllowed ? 'block' : 'none';\n",
       "    })();\n",
       "  </script>\n",
       "</div>\n",
       "\n",
       "    </div>\n",
       "  </div>\n"
      ],
      "text/plain": [
       "                      text  Claude-3.5-Sonnet\n",
       "0           就寝 時間 毎日 一定 する                  2\n",
       "1               朝日 積極的 浴びる                  2\n",
       "2         寝室 温度 18 -22度 保つ                  2\n",
       "3  就寝 前 ストレッチ 体 リラックス さ せる                  2\n",
       "4             寝具 定期的 清潔 保つ                  2"
      ]
     },
     "metadata": {},
     "output_type": "display_data"
    }
   ],
   "source": [
    "df = df[['text', 'Claude-3.5-Sonnet']]\n",
    "print(df.shape)\n",
    "print(df.info())\n",
    "display(df.head())"
   ]
  },
  {
   "cell_type": "markdown",
   "metadata": {
    "id": "bmy_T47hRV98"
   },
   "source": [
    "#### Check the number of documents in each category  "
   ]
  },
  {
   "cell_type": "code",
   "execution_count": 6,
   "metadata": {
    "colab": {
     "base_uri": "https://localhost:8080/"
    },
    "executionInfo": {
     "elapsed": 23,
     "status": "ok",
     "timestamp": 1736254017814,
     "user": {
      "displayName": "Haruto KAWABATA",
      "userId": "07629425452397739361"
     },
     "user_tz": -540
    },
    "id": "Hq6SsZO7RV99",
    "outputId": "8bf03c5c-85b5-45e9-944a-cb8bb488b05e"
   },
   "outputs": [
    {
     "name": "stdout",
     "output_type": "stream",
     "text": [
      "Claude-3.5-Sonnet\n",
      "0    184\n",
      "1     81\n",
      "2    161\n",
      "Name: count, dtype: int64\n"
     ]
    }
   ],
   "source": [
    "print(df['Claude-3.5-Sonnet'].value_counts().sort_index(ascending=True))"
   ]
  },
  {
   "cell_type": "markdown",
   "metadata": {
    "id": "ZwEDzkMGRV99"
   },
   "source": [
    "#### Calculation of TF-IDF"
   ]
  },
  {
   "cell_type": "code",
   "execution_count": 8,
   "metadata": {
    "executionInfo": {
     "elapsed": 19,
     "status": "ok",
     "timestamp": 1736254017815,
     "user": {
      "displayName": "Haruto KAWABATA",
      "userId": "07629425452397739361"
     },
     "user_tz": -540
    },
    "id": "ouvJe0N0Bqtp"
   },
   "outputs": [],
   "source": [
    "vectorizer = TfidfVectorizer(use_idf=True)\n",
    "tfidf_obj = vectorizer.fit_transform(df['text'])"
   ]
  },
  {
   "cell_type": "markdown",
   "metadata": {
    "id": "bXeHkH5SLcJ-"
   },
   "source": [
    "#### Check word set"
   ]
  },
  {
   "cell_type": "code",
   "execution_count": 9,
   "metadata": {
    "colab": {
     "base_uri": "https://localhost:8080/"
    },
    "executionInfo": {
     "elapsed": 19,
     "status": "ok",
     "timestamp": 1736254017815,
     "user": {
      "displayName": "Haruto KAWABATA",
      "userId": "07629425452397739361"
     },
     "user_tz": -540
    },
    "id": "rLFoJ9Bd-ZAw",
    "outputId": "72ffbe2a-9c95-4b1c-f795-072adde02a8d"
   },
   "outputs": [
    {
     "name": "stdout",
     "output_type": "stream",
     "text": [
      "Vocabulary size: 610\n",
      "['10時' '18' '1日' '1時間' '1時間前' '20分' '22度' '22時' '24時間' '2時間']\n",
      "['食事' '食物繊維' '飲み物' '飲む' '飲料' '香り' '騒音' '高い' '高く' '高得点']\n"
     ]
    }
   ],
   "source": [
    "vocab = vectorizer.get_feature_names_out()\n",
    "print('Vocabulary size:', len(vocab))\n",
    "print(vocab[:10])\n",
    "print(vocab[-10:])"
   ]
  },
  {
   "cell_type": "markdown",
   "metadata": {
    "id": "AxtKTQbDLgim"
   },
   "source": [
    "#### Obtain TF-IDF as a list"
   ]
  },
  {
   "cell_type": "code",
   "execution_count": 10,
   "metadata": {
    "colab": {
     "base_uri": "https://localhost:8080/"
    },
    "executionInfo": {
     "elapsed": 18,
     "status": "ok",
     "timestamp": 1736254017816,
     "user": {
      "displayName": "Haruto KAWABATA",
      "userId": "07629425452397739361"
     },
     "user_tz": -540
    },
    "id": "Lo4VLdxpdGm2",
    "outputId": "acdbbcb9-b044-4b7d-80d8-bdf441ee0cd8"
   },
   "outputs": [
    {
     "name": "stdout",
     "output_type": "stream",
     "text": [
      "(426, 610)\n"
     ]
    }
   ],
   "source": [
    "tfidf = tfidf_obj.toarray()\n",
    "print(tfidf.shape)"
   ]
  },
  {
   "cell_type": "markdown",
   "metadata": {
    "id": "678pNTJuivTj"
   },
   "source": [
    "#### Typical text for each label"
   ]
  },
  {
   "cell_type": "code",
   "execution_count": 12,
   "metadata": {
    "colab": {
     "base_uri": "https://localhost:8080/"
    },
    "executionInfo": {
     "elapsed": 298,
     "status": "ok",
     "timestamp": 1736254018101,
     "user": {
      "displayName": "Haruto KAWABATA",
      "userId": "07629425452397739361"
     },
     "user_tz": -540
    },
    "id": "ONtn3kpBiWrO",
    "outputId": "bd72a74c-e731-44b6-93af-53bd5195f051"
   },
   "outputs": [
    {
     "name": "stdout",
     "output_type": "stream",
     "text": [
      "\n",
      "Top 10 typical texts for Label 0:\n",
      "--------------------------------------------------\n",
      "1. 寝室 物 する (Score: 0.083)\n",
      "2. 寝る 直前 激しい 運動 する (Score: 0.080)\n",
      "3. 寝室 仕事 する (Score: 0.077)\n",
      "4. 寝る 直前 カフェイン 摂取 する (Score: 0.075)\n",
      "5. 寝る 前 激しい 運動 する (Score: 0.074)\n",
      "6. 寝室 仕事 電話 する (Score: 0.067)\n",
      "7. 寝る 前 議論 する (Score: 0.065)\n",
      "8. 寝る 直前 強い 運動 する (Score: 0.063)\n",
      "9. 就寝 前 激しい カフェイン 摂取 する (Score: 0.063)\n",
      "10. 就寝 直前 SNS 会話 する (Score: 0.062)\n",
      "\n",
      "Top 10 typical texts for Label 1:\n",
      "--------------------------------------------------\n",
      "1. 寝る 前 軽い 散歩 する (Score: 0.077)\n",
      "2. 軽い テレビ番組 寝る 前 見る (Score: 0.065)\n",
      "3. 寝る 前 軽い ジャーナリング する (Score: 0.062)\n",
      "4. 就寝 前 短時間 会話 (Score: 0.059)\n",
      "5. 就寝 前 軽い テレビ番組 見る (Score: 0.059)\n",
      "6. 夕食 後 軽い 散歩 する 習慣 つける (Score: 0.056)\n",
      "7. 寝る 前 短い 電話 する (Score: 0.056)\n",
      "8. 夕方 以降 軽い 庭 仕事 (Score: 0.056)\n",
      "9. 夕方 以降 軽い 運動 (Score: 0.055)\n",
      "10. 寝る 前 友人 短時間 電話 楽しむ (Score: 0.055)\n",
      "\n",
      "Top 10 typical texts for Label 2:\n",
      "--------------------------------------------------\n",
      "1. 寝る 前 軽い 読書 する (Score: 0.072)\n",
      "2. 就寝 前 深呼吸 リラックス する (Score: 0.058)\n",
      "3. 就寝 1時間前 軽い ストレッチ (Score: 0.053)\n",
      "4. 就寝 前 ストレッチ 体 リラックス さ せる (Score: 0.052)\n",
      "5. ストレス 解消 する ため 軽い 読書 する (Score: 0.050)\n",
      "6. 夜 軽い ストレッチ (Score: 0.048)\n",
      "7. 寝る 前 リラックス できる ハーブティー 楽しむ (Score: 0.047)\n",
      "8. 就寝 前 1時間 デジタルデトックス 行い リラックス する 時間 作る (Score: 0.047)\n",
      "9. 毎晩 時間 寝る こと 習慣 化 する (Score: 0.047)\n",
      "10. 寝室 リラックス 音楽 聴く (Score: 0.047)\n"
     ]
    }
   ],
   "source": [
    "for label in [0, 1, 2]:\n",
    "    print(f\"\\nTop 10 typical texts for Label {label}:\")\n",
    "    print(\"-\" * 50)\n",
    "\n",
    "    mask = df['Claude-3.5-Sonnet'] == label\n",
    "    label_tfidf = tfidf[mask]\n",
    "    label_texts = df[mask]['text']\n",
    "\n",
    "    similarities = cosine_similarity(label_tfidf)\n",
    "\n",
    "    centrality_scores = np.mean(similarities, axis=1)\n",
    "\n",
    "    top_indices = np.argsort(centrality_scores)[-10:][::-1]\n",
    "\n",
    "    for i, idx in enumerate(top_indices, 1):\n",
    "        score = centrality_scores[idx]\n",
    "        print(f\"{i}. {label_texts.iloc[idx]} (Score: {score:.3f})\")"
   ]
  },
  {
   "cell_type": "markdown",
   "metadata": {
    "id": "CacUDNPtRV9-"
   },
   "source": [
    "#### Elbow method to determine the number of clusters  "
   ]
  },
  {
   "cell_type": "code",
   "execution_count": 13,
   "metadata": {
    "colab": {
     "base_uri": "https://localhost:8080/",
     "height": 484
    },
    "executionInfo": {
     "elapsed": 1863,
     "status": "ok",
     "timestamp": 1736254019961,
     "user": {
      "displayName": "Haruto KAWABATA",
      "userId": "07629425452397739361"
     },
     "user_tz": -540
    },
    "id": "bwab2vVORV9-",
    "outputId": "32a81db7-3645-4485-e950-afbac1231a12"
   },
   "outputs": [
    {
     "data": {
      "image/png": "[encoded data removed]",
      "text/plain": [
       "<Figure size 640x480 with 1 Axes>"
      ]
     },
     "metadata": {},
     "output_type": "display_data"
    },
    {
     "name": "stdout",
     "output_type": "stream",
     "text": [
      "CPU times: user 1.74 s, sys: 1.21 s, total: 2.95 s\n",
      "Wall time: 1.84 s\n"
     ]
    }
   ],
   "source": [
    "%%time\n",
    "\n",
    "max_cls = 10\n",
    "distortions = []\n",
    "for i in range(1, max_cls+1):\n",
    "    km = KMeans(n_clusters=i, n_init=10)\n",
    "    km.fit(tfidf)\n",
    "    distortions.append(km.inertia_)\n",
    "plt.plot(range(1, max_cls+1), distortions, marker='o')\n",
    "plt.xlabel('Number of clusters')\n",
    "plt.ylabel('Distortion')\n",
    "plt.show()"
   ]
  },
  {
   "cell_type": "markdown",
   "metadata": {
    "id": "MTRhPN7jRV9-"
   },
   "source": [
    "#### K-Means clustering  "
   ]
  },
  {
   "cell_type": "code",
   "execution_count": 14,
   "metadata": {
    "executionInfo": {
     "elapsed": 11,
     "status": "ok",
     "timestamp": 1736254019961,
     "user": {
      "displayName": "Haruto KAWABATA",
      "userId": "07629425452397739361"
     },
     "user_tz": -540
    },
    "id": "GW9LtLPVRV9-"
   },
   "outputs": [],
   "source": [
    "n_cls = 3\n",
    "km = KMeans(n_clusters=n_cls, n_init=10, random_state=7)\n",
    "cls = km.fit_predict(tfidf)"
   ]
  },
  {
   "cell_type": "markdown",
   "metadata": {
    "id": "x667b2G2RV9-"
   },
   "source": [
    "#### Check correspondence of target and clusters  "
   ]
  },
  {
   "cell_type": "code",
   "execution_count": 15,
   "metadata": {
    "colab": {
     "base_uri": "https://localhost:8080/",
     "height": 175
    },
    "executionInfo": {
     "elapsed": 12,
     "status": "ok",
     "timestamp": 1736254019962,
     "user": {
      "displayName": "Haruto KAWABATA",
      "userId": "07629425452397739361"
     },
     "user_tz": -540
    },
    "id": "YDNgAcfXRV9-",
    "outputId": "375d1bed-2083-4668-87b7-0e8d0283b6d3"
   },
   "outputs": [
    {
     "data": {
      "application/vnd.google.colaboratory.intrinsic+json": {
       "summary": "{\n  \"name\": \"display(pd\",\n  \"rows\": 3,\n  \"fields\": [\n    {\n      \"column\": \"Claude-3.5-Sonnet\",\n      \"properties\": {\n        \"dtype\": \"number\",\n        \"std\": 1,\n        \"min\": 0,\n        \"max\": 2,\n        \"num_unique_values\": 3,\n        \"samples\": [\n          0,\n          1,\n          2\n        ],\n        \"semantic_type\": \"\",\n        \"description\": \"\"\n      }\n    },\n    {\n      \"column\": 0,\n      \"properties\": {\n        \"dtype\": \"number\",\n        \"std\": 35,\n        \"min\": 50,\n        \"max\": 116,\n        \"num_unique_values\": 3,\n        \"samples\": [\n          106,\n          50,\n          116\n        ],\n        \"semantic_type\": \"\",\n        \"description\": \"\"\n      }\n    },\n    {\n      \"column\": 1,\n      \"properties\": {\n        \"dtype\": \"number\",\n        \"std\": 7,\n        \"min\": 10,\n        \"max\": 24,\n        \"num_unique_values\": 3,\n        \"samples\": [\n          24,\n          10,\n          15\n        ],\n        \"semantic_type\": \"\",\n        \"description\": \"\"\n      }\n    },\n    {\n      \"column\": 2,\n      \"properties\": {\n        \"dtype\": \"number\",\n        \"std\": 17,\n        \"min\": 21,\n        \"max\": 54,\n        \"num_unique_values\": 3,\n        \"samples\": [\n          54,\n          21,\n          30\n        ],\n        \"semantic_type\": \"\",\n        \"description\": \"\"\n      }\n    }\n  ]\n}",
       "type": "dataframe"
      },
      "text/html": [
       "\n",
       "  <div id=\"df-784a1e00-f28c-4357-bc6e-e1bf0dbfc86f\" class=\"colab-df-container\">\n",
       "    <div>\n",
       "<style scoped>\n",
       "    .dataframe tbody tr th:only-of-type {\n",
       "        vertical-align: middle;\n",
       "    }\n",
       "\n",
       "    .dataframe tbody tr th {\n",
       "        vertical-align: top;\n",
       "    }\n",
       "\n",
       "    .dataframe thead th {\n",
       "        text-align: right;\n",
       "    }\n",
       "</style>\n",
       "<table border=\"1\" class=\"dataframe\">\n",
       "  <thead>\n",
       "    <tr style=\"text-align: right;\">\n",
       "      <th>col_0</th>\n",
       "      <th>0</th>\n",
       "      <th>1</th>\n",
       "      <th>2</th>\n",
       "    </tr>\n",
       "    <tr>\n",
       "      <th>Claude-3.5-Sonnet</th>\n",
       "      <th></th>\n",
       "      <th></th>\n",
       "      <th></th>\n",
       "    </tr>\n",
       "  </thead>\n",
       "  <tbody>\n",
       "    <tr>\n",
       "      <th>0</th>\n",
       "      <td>106</td>\n",
       "      <td>24</td>\n",
       "      <td>54</td>\n",
       "    </tr>\n",
       "    <tr>\n",
       "      <th>1</th>\n",
       "      <td>50</td>\n",
       "      <td>10</td>\n",
       "      <td>21</td>\n",
       "    </tr>\n",
       "    <tr>\n",
       "      <th>2</th>\n",
       "      <td>116</td>\n",
       "      <td>15</td>\n",
       "      <td>30</td>\n",
       "    </tr>\n",
       "  </tbody>\n",
       "</table>\n",
       "</div>\n",
       "    <div class=\"colab-df-buttons\">\n",
       "\n",
       "  <div class=\"colab-df-container\">\n",
       "    <button class=\"colab-df-convert\" onclick=\"convertToInteractive('df-784a1e00-f28c-4357-bc6e-e1bf0dbfc86f')\"\n",
       "            title=\"Convert this dataframe to an interactive table.\"\n",
       "            style=\"display:none;\">\n",
       "\n",
       "  <svg xmlns=\"http://www.w3.org/2000/svg\" height=\"24px\" viewBox=\"0 -960 960 960\">\n",
       "    <path d=\"M120-120v-720h720v720H120Zm60-500h600v-160H180v160Zm220 220h160v-160H400v160Zm0 220h160v-160H400v160ZM180-400h160v-160H180v160Zm440 0h160v-160H620v160ZM180-180h160v-160H180v160Zm440 0h160v-160H620v160Z\"/>\n",
       "  </svg>\n",
       "    </button>\n",
       "\n",
       "  <style>\n",
       "    .colab-df-container {\n",
       "      display:flex;\n",
       "      gap: 12px;\n",
       "    }\n",
       "\n",
       "    .colab-df-convert {\n",
       "      background-color: #E8F0FE;\n",
       "      border: none;\n",
       "      border-radius: 50%;\n",
       "      cursor: pointer;\n",
       "      display: none;\n",
       "      fill: #1967D2;\n",
       "      height: 32px;\n",
       "      padding: 0 0 0 0;\n",
       "      width: 32px;\n",
       "    }\n",
       "\n",
       "    .colab-df-convert:hover {\n",
       "      background-color: #E2EBFA;\n",
       "      box-shadow: 0px 1px 2px rgba(60, 64, 67, 0.3), 0px 1px 3px 1px rgba(60, 64, 67, 0.15);\n",
       "      fill: #174EA6;\n",
       "    }\n",
       "\n",
       "    .colab-df-buttons div {\n",
       "      margin-bottom: 4px;\n",
       "    }\n",
       "\n",
       "    [theme=dark] .colab-df-convert {\n",
       "      background-color: #3B4455;\n",
       "      fill: #D2E3FC;\n",
       "    }\n",
       "\n",
       "    [theme=dark] .colab-df-convert:hover {\n",
       "      background-color: #434B5C;\n",
       "      box-shadow: 0px 1px 3px 1px rgba(0, 0, 0, 0.15);\n",
       "      filter: drop-shadow(0px 1px 2px rgba(0, 0, 0, 0.3));\n",
       "      fill: #FFFFFF;\n",
       "    }\n",
       "  </style>\n",
       "\n",
       "    <script>\n",
       "      const buttonEl =\n",
       "        document.querySelector('#df-784a1e00-f28c-4357-bc6e-e1bf0dbfc86f button.colab-df-convert');\n",
       "      buttonEl.style.display =\n",
       "        google.colab.kernel.accessAllowed ? 'block' : 'none';\n",
       "\n",
       "      async function convertToInteractive(key) {\n",
       "        const element = document.querySelector('#df-784a1e00-f28c-4357-bc6e-e1bf0dbfc86f');\n",
       "        const dataTable =\n",
       "          await google.colab.kernel.invokeFunction('convertToInteractive',\n",
       "                                                    [key], {});\n",
       "        if (!dataTable) return;\n",
       "\n",
       "        const docLinkHtml = 'Like what you see? Visit the ' +\n",
       "          '<a target=\"_blank\" href=https://colab.research.google.com/notebooks/data_table.ipynb>data table notebook</a>'\n",
       "          + ' to learn more about interactive tables.';\n",
       "        element.innerHTML = '';\n",
       "        dataTable['output_type'] = 'display_data';\n",
       "        await google.colab.output.renderOutput(dataTable, element);\n",
       "        const docLink = document.createElement('div');\n",
       "        docLink.innerHTML = docLinkHtml;\n",
       "        element.appendChild(docLink);\n",
       "      }\n",
       "    </script>\n",
       "  </div>\n",
       "\n",
       "\n",
       "<div id=\"df-45dfe77e-e363-4e88-91b1-d9e3a57cd3c9\">\n",
       "  <button class=\"colab-df-quickchart\" onclick=\"quickchart('df-45dfe77e-e363-4e88-91b1-d9e3a57cd3c9')\"\n",
       "            title=\"Suggest charts\"\n",
       "            style=\"display:none;\">\n",
       "\n",
       "<svg xmlns=\"http://www.w3.org/2000/svg\" height=\"24px\"viewBox=\"0 0 24 24\"\n",
       "     width=\"24px\">\n",
       "    <g>\n",
       "        <path d=\"M19 3H5c-1.1 0-2 .9-2 2v14c0 1.1.9 2 2 2h14c1.1 0 2-.9 2-2V5c0-1.1-.9-2-2-2zM9 17H7v-7h2v7zm4 0h-2V7h2v10zm4 0h-2v-4h2v4z\"/>\n",
       "    </g>\n",
       "</svg>\n",
       "  </button>\n",
       "\n",
       "<style>\n",
       "  .colab-df-quickchart {\n",
       "      --bg-color: #E8F0FE;\n",
       "      --fill-color: #1967D2;\n",
       "      --hover-bg-color: #E2EBFA;\n",
       "      --hover-fill-color: #174EA6;\n",
       "      --disabled-fill-color: #AAA;\n",
       "      --disabled-bg-color: #DDD;\n",
       "  }\n",
       "\n",
       "  [theme=dark] .colab-df-quickchart {\n",
       "      --bg-color: #3B4455;\n",
       "      --fill-color: #D2E3FC;\n",
       "      --hover-bg-color: #434B5C;\n",
       "      --hover-fill-color: #FFFFFF;\n",
       "      --disabled-bg-color: #3B4455;\n",
       "      --disabled-fill-color: #666;\n",
       "  }\n",
       "\n",
       "  .colab-df-quickchart {\n",
       "    background-color: var(--bg-color);\n",
       "    border: none;\n",
       "    border-radius: 50%;\n",
       "    cursor: pointer;\n",
       "    display: none;\n",
       "    fill: var(--fill-color);\n",
       "    height: 32px;\n",
       "    padding: 0;\n",
       "    width: 32px;\n",
       "  }\n",
       "\n",
       "  .colab-df-quickchart:hover {\n",
       "    background-color: var(--hover-bg-color);\n",
       "    box-shadow: 0 1px 2px rgba(60, 64, 67, 0.3), 0 1px 3px 1px rgba(60, 64, 67, 0.15);\n",
       "    fill: var(--button-hover-fill-color);\n",
       "  }\n",
       "\n",
       "  .colab-df-quickchart-complete:disabled,\n",
       "  .colab-df-quickchart-complete:disabled:hover {\n",
       "    background-color: var(--disabled-bg-color);\n",
       "    fill: var(--disabled-fill-color);\n",
       "    box-shadow: none;\n",
       "  }\n",
       "\n",
       "  .colab-df-spinner {\n",
       "    border: 2px solid var(--fill-color);\n",
       "    border-color: transparent;\n",
       "    border-bottom-color: var(--fill-color);\n",
       "    animation:\n",
       "      spin 1s steps(1) infinite;\n",
       "  }\n",
       "\n",
       "  @keyframes spin {\n",
       "    0% {\n",
       "      border-color: transparent;\n",
       "      border-bottom-color: var(--fill-color);\n",
       "      border-left-color: var(--fill-color);\n",
       "    }\n",
       "    20% {\n",
       "      border-color: transparent;\n",
       "      border-left-color: var(--fill-color);\n",
       "      border-top-color: var(--fill-color);\n",
       "    }\n",
       "    30% {\n",
       "      border-color: transparent;\n",
       "      border-left-color: var(--fill-color);\n",
       "      border-top-color: var(--fill-color);\n",
       "      border-right-color: var(--fill-color);\n",
       "    }\n",
       "    40% {\n",
       "      border-color: transparent;\n",
       "      border-right-color: var(--fill-color);\n",
       "      border-top-color: var(--fill-color);\n",
       "    }\n",
       "    60% {\n",
       "      border-color: transparent;\n",
       "      border-right-color: var(--fill-color);\n",
       "    }\n",
       "    80% {\n",
       "      border-color: transparent;\n",
       "      border-right-color: var(--fill-color);\n",
       "      border-bottom-color: var(--fill-color);\n",
       "    }\n",
       "    90% {\n",
       "      border-color: transparent;\n",
       "      border-bottom-color: var(--fill-color);\n",
       "    }\n",
       "  }\n",
       "</style>\n",
       "\n",
       "  <script>\n",
       "    async function quickchart(key) {\n",
       "      const quickchartButtonEl =\n",
       "        document.querySelector('#' + key + ' button');\n",
       "      quickchartButtonEl.disabled = true;  // To prevent multiple clicks.\n",
       "      quickchartButtonEl.classList.add('colab-df-spinner');\n",
       "      try {\n",
       "        const charts = await google.colab.kernel.invokeFunction(\n",
       "            'suggestCharts', [key], {});\n",
       "      } catch (error) {\n",
       "        console.error('Error during call to suggestCharts:', error);\n",
       "      }\n",
       "      quickchartButtonEl.classList.remove('colab-df-spinner');\n",
       "      quickchartButtonEl.classList.add('colab-df-quickchart-complete');\n",
       "    }\n",
       "    (() => {\n",
       "      let quickchartButtonEl =\n",
       "        document.querySelector('#df-45dfe77e-e363-4e88-91b1-d9e3a57cd3c9 button');\n",
       "      quickchartButtonEl.style.display =\n",
       "        google.colab.kernel.accessAllowed ? 'block' : 'none';\n",
       "    })();\n",
       "  </script>\n",
       "</div>\n",
       "\n",
       "    </div>\n",
       "  </div>\n"
      ],
      "text/plain": [
       "col_0                0   1   2\n",
       "Claude-3.5-Sonnet             \n",
       "0                  106  24  54\n",
       "1                   50  10  21\n",
       "2                  116  15  30"
      ]
     },
     "metadata": {},
     "output_type": "display_data"
    }
   ],
   "source": [
    "display(pd.crosstab(df['Claude-3.5-Sonnet'], cls))"
   ]
  },
  {
   "cell_type": "markdown",
   "metadata": {
    "id": "8XNH7u-jRV9-"
   },
   "source": [
    "#### PCA  "
   ]
  },
  {
   "cell_type": "code",
   "execution_count": 16,
   "metadata": {
    "colab": {
     "base_uri": "https://localhost:8080/"
    },
    "executionInfo": {
     "elapsed": 10,
     "status": "ok",
     "timestamp": 1736254019962,
     "user": {
      "displayName": "Haruto KAWABATA",
      "userId": "07629425452397739361"
     },
     "user_tz": -540
    },
    "id": "jUDL4la3RV9-",
    "outputId": "eacba0ef-8368-48dd-f28f-c3bccea6db61"
   },
   "outputs": [
    {
     "name": "stdout",
     "output_type": "stream",
     "text": [
      "CPU times: user 24.9 ms, sys: 28.4 ms, total: 53.3 ms\n",
      "Wall time: 36.1 ms\n"
     ]
    }
   ],
   "source": [
    "%%time\n",
    "\n",
    "pca = PCA(n_components=2)\n",
    "Y_pca = pca.fit_transform(tfidf)"
   ]
  },
  {
   "cell_type": "markdown",
   "metadata": {
    "id": "shZtBVHf-eVP"
   },
   "source": [
    "#### Check contribution ratio  "
   ]
  },
  {
   "cell_type": "code",
   "execution_count": 17,
   "metadata": {
    "colab": {
     "base_uri": "https://localhost:8080/"
    },
    "executionInfo": {
     "elapsed": 8,
     "status": "ok",
     "timestamp": 1736254019962,
     "user": {
      "displayName": "Haruto KAWABATA",
      "userId": "07629425452397739361"
     },
     "user_tz": -540
    },
    "id": "aNp2oMqO-dlL",
    "outputId": "0d2a8e0d-52cd-4136-c97b-55414bd48731"
   },
   "outputs": [
    {
     "name": "stdout",
     "output_type": "stream",
     "text": [
      "[0.02041725 0.01810407]\n",
      "[0.02041725 0.03852132]\n"
     ]
    }
   ],
   "source": [
    "print(pca.explained_variance_ratio_)\n",
    "print(np.cumsum(pca.explained_variance_ratio_))"
   ]
  },
  {
   "cell_type": "markdown",
   "metadata": {
    "id": "ogn1j4_pImkU"
   },
   "source": [
    "#### Plot of PCA colored by cluster ID"
   ]
  },
  {
   "cell_type": "code",
   "execution_count": 18,
   "metadata": {
    "colab": {
     "base_uri": "https://localhost:8080/",
     "height": 0
    },
    "executionInfo": {
     "elapsed": 346,
     "status": "ok",
     "timestamp": 1736254020301,
     "user": {
      "displayName": "Haruto KAWABATA",
      "userId": "07629425452397739361"
     },
     "user_tz": -540
    },
    "id": "qF3th7eSRV9-",
    "outputId": "68175f9d-abaa-46d8-edbb-d76ffe882254"
   },
   "outputs": [
    {
     "data": {
      "image/png": "[encoded data removed]",
      "text/plain": [
       "<Figure size 640x480 with 1 Axes>"
      ]
     },
     "metadata": {},
     "output_type": "display_data"
    }
   ],
   "source": [
    "plt.title(\"PCA (colored by cluster ID)\")\n",
    "marker = '.'\n",
    "for i in range(n_cls):\n",
    "    y1 = Y_pca[ cls==i ]\n",
    "    plt.scatter(y1[:, 0], y1[:, 1], marker=marker, label=i)\n",
    "\n",
    "plt.xlabel('PCA1')\n",
    "plt.ylabel('PCA2')\n",
    "plt.legend()\n",
    "plt.show()"
   ]
  },
  {
   "cell_type": "code",
   "execution_count": 19,
   "metadata": {
    "colab": {
     "base_uri": "https://localhost:8080/",
     "height": 0
    },
    "executionInfo": {
     "elapsed": 473,
     "status": "ok",
     "timestamp": 1736254020769,
     "user": {
      "displayName": "Haruto KAWABATA",
      "userId": "07629425452397739361"
     },
     "user_tz": -540
    },
    "id": "0vQ4H7FQySBL",
    "outputId": "bb168106-e9a5-42c6-b617-4e5245221b76"
   },
   "outputs": [
    {
     "data": {
      "image/png": "[encoded data removed]",
      "text/plain": [
       "<Figure size 640x480 with 1 Axes>"
      ]
     },
     "metadata": {},
     "output_type": "display_data"
    },
    {
     "name": "stdout",
     "output_type": "stream",
     "text": [
      "\n",
      "Cluster 0 - Texts near center (within distance 0.05):\n",
      "--------------------------------------------------------------------------------\n",
      "Distance 0.002: 日光 浴びる\n",
      "Distance 0.003: リビング 眠る\n",
      "Distance 0.003: 毎朝 時間 起きる\n",
      "Distance 0.003: 朝陽 浴びる\n",
      "Distance 0.004: 部屋 香り 豊か アロマ 満たす\n",
      "Distance 0.005: 朝日 積極的 浴びる\n",
      "Distance 0.005: マグネシウム 多く 含む アーモンド ナッツ類 間食 取り入れる\n",
      "Distance 0.005: 寝る時間 明日 楽しい 計画 心 留める\n",
      "Distance 0.006: 友達 楽しい 時間 過ごす\n",
      "Distance 0.006: 軽く 目 閉じ 深呼吸 し 心 落ち着ける\n",
      "Distance 0.007: 夜 シャワー\n",
      "Distance 0.008: 明日へ 楽しい 計画 立てる\n",
      "Distance 0.008: ホット タオル 首 温める\n",
      "Distance 0.009: 日中 いる 場所 ところ いる\n",
      "Distance 0.010: 負の感情 抱え まま 眠る\n",
      "Distance 0.010: 夜遅く 食べ 過ぎる\n",
      "Distance 0.010: 帰宅 遅く なる\n",
      "Distance 0.010: 朝 早く 起き 日光 感じる\n",
      "Distance 0.010: ポジティブシンキング 心掛ける\n",
      "Distance 0.010: 自然 音 聞く\n",
      "Distance 0.010: 外 騒音 光 気 なっ 眠れ\n",
      "Distance 0.010: パートナー いびき 寝言 うるさい\n",
      "Distance 0.011: 部屋 散らかし まま 睡眠 入る\n",
      "Distance 0.011: アロマキャンドル 焚く\n",
      "Distance 0.011: 人混み 行く\n",
      "Distance 0.011: 夜 過度 情報収集\n",
      "Distance 0.011: 朝 タイマー セット しない 目覚める\n",
      "Distance 0.011: 週末 長め 昼寝 取る\n",
      "Distance 0.011: エッセンシャルオイル 使っ アロマセラピー\n",
      "Distance 0.012: 明日 嫌 予定 考え込む\n",
      "Distance 0.012: 週末 寝る時間 遅らせる\n",
      "Distance 0.012: 感謝 気持ち 書く\n",
      "Distance 0.012: ソフト 肌触り 良い パジャマ 着る\n",
      "Distance 0.013: 肌触り 良い パジャマ 着る\n",
      "Distance 0.013: 温かい パジャマ 選ぶ\n",
      "Distance 0.014: 自分 合っ ピロー トップ 選ぶ\n",
      "Distance 0.014: アロマディフューザー 香り 部屋 広げる\n",
      "Distance 0.015: 心 リセット ため 自然 音 聴く\n",
      "Distance 0.015: 寝具 季節 合わせ 選ぶ\n",
      "Distance 0.015: 明日 プレゼンテーション 不安 頭 なる\n",
      "Distance 0.015: 夜遅く 掃除機 がけ\n",
      "Distance 0.015: ベッド マットレス 体 合わ 寝心地 悪い\n",
      "Distance 0.015: 足 温める\n",
      "Distance 0.015: 夜遅く 熱い シャワー\n",
      "Distance 0.015: 昼寝 20分 以内 抑える\n",
      "Distance 0.016: ジャズ クラシック音楽 心 落ち着か せる\n",
      "Distance 0.017: ニュートラル 香り 枕 スプレー 使う\n",
      "Distance 0.017: 就寝 時間 毎日 一定 する\n",
      "Distance 0.017: 部屋 時計 気 なっ しまい 何度 確認 し しまう\n",
      "Distance 0.019: 深夜 オンラインショッピング\n",
      "Distance 0.019: 布団 入っ 電子書籍 読む\n",
      "Distance 0.019: ページ めくる の やめ られ スリラー 小説 読む\n",
      "Distance 0.019: 夜 温かい 飲み物\n",
      "Distance 0.020: 昼寝 長時間 とる\n",
      "Distance 0.020: 涼しい 風 取り入れる ため 窓 開ける\n",
      "Distance 0.020: 規則正しい 食事 時間 守る\n",
      "Distance 0.020: ドライヤー 音 雨 音 ホワイトノイズ 使う\n",
      "Distance 0.021: 深夜 SNS 議論\n",
      "Distance 0.021: 笑顔 作る\n",
      "Distance 0.022: ライト 暗め し 就寝 準備 する\n",
      "Distance 0.023: バイノーラルビート 聴く\n",
      "Distance 0.023: スマホ ニュース 調べる\n",
      "Distance 0.024: 昼寝 30分 程度 とる\n",
      "Distance 0.024: し 夜 ルーティン 作る\n",
      "Distance 0.024: SNS ネガティブ コメント 読む\n",
      "Distance 0.025: 温かい カモミール ティー 楽しむ\n",
      "Distance 0.026: 水分 不足 なら よう 日中 こまめ 水分補給 心掛ける\n",
      "Distance 0.026: 夜 9時 以降 入浴\n",
      "Distance 0.027: 経絡 マッサージ 試す\n",
      "Distance 0.027: 夕食 後 デザート\n",
      "Distance 0.028: 深夜 ニュース チェック\n",
      "Distance 0.028: 就寝 前 ホラーゲーム プレイ する\n",
      "Distance 0.028: 就寝 前 腹式呼吸 実践 する\n",
      "Distance 0.029: 就寝 前 口論 する\n",
      "Distance 0.029: 週末 カフェイン 入り 飲み物 夜 楽しむ\n",
      "Distance 0.029: 布団 定期的 干す\n",
      "Distance 0.030: 穏やか ヨガ ポーズ 眠り 備える\n",
      "Distance 0.030: 穏やか 声 朗読 聞く\n",
      "Distance 0.031: 快適 寝具 選ぶ\n",
      "Distance 0.031: 快適 寝具 選び 良い 枕 使う\n",
      "Distance 0.031: 夕方 以降 複数回 コーヒー 摂取\n",
      "Distance 0.032: 大量 アルコール 摂取 し 眠り つく\n",
      "Distance 0.032: 心地よい 毛布 一緒 過ごす\n",
      "Distance 0.033: 夕食 遅い 時間 摂る\n",
      "Distance 0.033: 友人 夜更かし 頻繁 行う\n",
      "Distance 0.034: 夜 長時間 ビデオ通話\n",
      "Distance 0.034: 夜 ハーブティー\n",
      "Distance 0.035: 22時 以降 テレビ 視聴\n",
      "Distance 0.035: エプソムソルト 使っ 入浴 行う\n",
      "Distance 0.036: 就寝 前 ストレス フル 作業 する\n",
      "Distance 0.036: 深夜 ペット 遊び 相手\n",
      "Distance 0.036: 就寝 前 1時間 デジタルデトックス 行い リラックス する 時間 作る\n",
      "Distance 0.036: スマホ 短い 動画 夜更かし し 見る\n",
      "Distance 0.036: 快適 睡眠 環境 整える\n",
      "Distance 0.038: SNS 他人 ネガティブ 投稿 見る\n",
      "Distance 0.038: 夕方 カフェオレ\n",
      "Distance 0.038: 夕方 ウォーキング\n",
      "Distance 0.038: 竹炭 空気 清浄 保つ\n",
      "Distance 0.038: 夕食 後 大量 甘い 物 摂取\n",
      "Distance 0.039: パートナー 穏やか 会話 一日 振り返る\n",
      "Distance 0.039: 夜 長時間 オンラインゲーム\n",
      "Distance 0.039: 夜 コーヒー デカフェ 切り替え 飲む\n",
      "Distance 0.041: 夜 長時間 SNS チェック\n",
      "Distance 0.043: 寝具 定期的 清潔 保つ\n",
      "Distance 0.044: 静か 環境 波 音 小鳥 さえずり 自然 音 聴く\n",
      "Distance 0.045: 夜 10時 以降 食事\n",
      "Distance 0.046: バランス 取れ 夕食 楽しむ\n",
      "Distance 0.046: 夜中 明るい 場所 過ごす\n",
      "Distance 0.047: 就寝 前 重要 決定 する\n",
      "Distance 0.048: 夜遅く スマートフォン 見る\n",
      "Distance 0.048: 眠り 促す ハーブティー 楽しむ\n",
      "Distance 0.048: 瞑想 アプリ リラックス\n",
      "Distance 0.048: マインドフルネス 行う\n",
      "Distance 0.048: 夜中 オンライン ミーティング 行う\n",
      "Distance 0.049: 感謝 日記 つける\n",
      "Distance 0.049: 瞑想 取り入れる\n",
      "Distance 0.049: カフェイン 入り 飲料 夜遅く 飲む\n",
      "Distance 0.049: 通常 遅く 夕食 楽しむ\n",
      "Distance 0.050: ベッド 短い メディテーション 行う\n",
      "\n",
      "Cluster 1 - Texts near center (within distance 0.05):\n",
      "--------------------------------------------------------------------------------\n",
      "Distance 0.028: 寝室 掃除 し\n",
      "Distance 0.039: 寝室 明るい 照明 使う\n",
      "Distance 0.045: 寝室 温度 管理 し\n",
      "Distance 0.046: 寝室 アロマディフューザー 使用\n",
      "Distance 0.048: 寝室 電子メール チェック し 続ける\n",
      "Distance 0.050: 寝室 観葉植物 置く\n",
      "Distance 0.050: 寝室 ピンクソルトランプ 置く\n",
      "\n",
      "Cluster 2 - Texts near center (within distance 0.05):\n",
      "--------------------------------------------------------------------------------\n",
      "Distance 0.014: 寝る 前 心配 事 考える\n",
      "Distance 0.023: 寝る 前 楽しい こと 考える\n",
      "Distance 0.023: 寝る 前 楽しい こと 考える\n",
      "Distance 0.032: 寝る 前 1 章 小説 読む\n",
      "Distance 0.034: 寝る 前 日記 つける\n",
      "Distance 0.039: 寝る 直前 SNS 友人 熱い 議論 交わす\n",
      "Distance 0.043: 寝る 前 カーボン ハイ 食べ物 食べる\n",
      "Distance 0.044: 寝る 前 戦争映画 見る\n",
      "Distance 0.045: 休日 昼過ぎ 寝る\n",
      "Distance 0.046: 寝る 前 甘い もの 食べる\n",
      "Distance 0.049: 夜 寝る 前 スマホ 30分 程度 見る\n"
     ]
    }
   ],
   "source": [
    "def find_texts_near_center_pca(pca_coords, texts, labels, cluster_id, distance_threshold):\n",
    "    # Get points for the specified cluster\n",
    "    cluster_mask = labels == cluster_id\n",
    "    cluster_coords = pca_coords[cluster_mask]\n",
    "    cluster_texts = texts[cluster_mask]\n",
    "\n",
    "    # Find cluster center\n",
    "    center = np.mean(cluster_coords, axis=0)\n",
    "\n",
    "    # Calculate distances from center\n",
    "    distances = np.sqrt(np.sum((cluster_coords - center) ** 2, axis=1))\n",
    "\n",
    "    # Find points within threshold\n",
    "    nearby_mask = distances <= distance_threshold\n",
    "    nearby_texts = cluster_texts[nearby_mask]\n",
    "    nearby_distances = distances[nearby_mask]\n",
    "\n",
    "    # Sort by distance\n",
    "    sorted_indices = np.argsort(nearby_distances)\n",
    "    sorted_texts = nearby_texts[sorted_indices]\n",
    "    sorted_distances = nearby_distances[sorted_indices]\n",
    "\n",
    "    return sorted_texts, sorted_distances, center\n",
    "\n",
    "# Convert texts to numpy array for indexing\n",
    "texts_array = np.array(df['text'])\n",
    "\n",
    "# Plot PCA with cluster centers\n",
    "plt.title(\"PCA with Cluster Centers\")\n",
    "marker = '.'\n",
    "\n",
    "for i in range(n_cls):\n",
    "    y1 = Y_pca[cls==i]\n",
    "    plt.scatter(y1[:, 0], y1[:, 1], marker=marker, label=f'Cluster {i}')\n",
    "\n",
    "    # Find and plot cluster center\n",
    "    center = np.mean(y1, axis=0)\n",
    "    plt.scatter(center[0], center[1], marker='*', s=200,\n",
    "               c='red', label=f'Center {i}' if i==0 else \"\")\n",
    "\n",
    "plt.xlabel('PCA1')\n",
    "plt.ylabel('PCA2')\n",
    "plt.legend()\n",
    "plt.show()\n",
    "\n",
    "# Find nearby texts for each cluster\n",
    "# Note: You might need to adjust the distance threshold for PCA\n",
    "# as the scale might be different from t-SNE\n",
    "distance_threshold = 0.05  # Adjust this value based on your PCA scale\n",
    "\n",
    "for cluster_id in range(n_cls):\n",
    "    print(f\"\\nCluster {cluster_id} - Texts near center (within distance {distance_threshold}):\")\n",
    "    print(\"-\" * 80)\n",
    "\n",
    "    nearby_texts, distances, center = find_texts_near_center_pca(\n",
    "        Y_pca, texts_array, cls, cluster_id, distance_threshold\n",
    "    )\n",
    "\n",
    "    for text, dist in zip(nearby_texts, distances):\n",
    "        print(f\"Distance {dist:.3f}: {text}\")"
   ]
  },
  {
   "cell_type": "markdown",
   "metadata": {
    "id": "PlAuPe9hRV9-"
   },
   "source": [
    "#### Plot of PCA colored by target  "
   ]
  },
  {
   "cell_type": "code",
   "execution_count": 20,
   "metadata": {
    "colab": {
     "base_uri": "https://localhost:8080/",
     "height": 0
    },
    "executionInfo": {
     "elapsed": 630,
     "status": "ok",
     "timestamp": 1736254021395,
     "user": {
      "displayName": "Haruto KAWABATA",
      "userId": "07629425452397739361"
     },
     "user_tz": -540
    },
    "id": "zrU73vW-RV9_",
    "outputId": "d6610944-805d-49eb-8d1f-374d53002ef5"
   },
   "outputs": [
    {
     "data": {
      "image/png": "[encoded data removed]",
      "text/plain": [
       "<Figure size 640x480 with 1 Axes>"
      ]
     },
     "metadata": {},
     "output_type": "display_data"
    }
   ],
   "source": [
    "#plt.figure(figsize=(10,7))\n",
    "plt.title(\"PCA (colored by target)\")\n",
    "marker = '.'\n",
    "for i in range(n_cls):\n",
    "    y1 = Y_pca[ df['Claude-3.5-Sonnet']==i ]\n",
    "    plt.scatter(y1[:, 0], y1[:, 1], marker=marker, label=i)\n",
    "\n",
    "plt.xlabel('PCA1')\n",
    "plt.ylabel('PCA2')\n",
    "plt.legend()\n",
    "plt.show()"
   ]
  },
  {
   "cell_type": "markdown",
   "metadata": {
    "id": "JrY9LS8WRV9_"
   },
   "source": [
    "#### t-SNE  "
   ]
  },
  {
   "cell_type": "code",
   "execution_count": 21,
   "metadata": {
    "colab": {
     "base_uri": "https://localhost:8080/"
    },
    "executionInfo": {
     "elapsed": 2457,
     "status": "ok",
     "timestamp": 1736254023847,
     "user": {
      "displayName": "Haruto KAWABATA",
      "userId": "07629425452397739361"
     },
     "user_tz": -540
    },
    "id": "EcaNg9MXRV9_",
    "outputId": "061d110b-b917-4937-e420-56dc5b5276fe"
   },
   "outputs": [
    {
     "name": "stderr",
     "output_type": "stream",
     "text": [
      "/usr/local/lib/python3.10/dist-packages/sklearn/manifold/_t_sne.py:1164: FutureWarning: 'n_iter' was renamed to 'max_iter' in version 1.5 and will be removed in 1.7.\n",
      "  warnings.warn(\n"
     ]
    },
    {
     "name": "stdout",
     "output_type": "stream",
     "text": [
      "CPU times: user 2.48 s, sys: 66.4 ms, total: 2.55 s\n",
      "Wall time: 2.56 s\n"
     ]
    }
   ],
   "source": [
    "%%time\n",
    "\n",
    "Y_tsne = TSNE(n_components=2,\n",
    "              perplexity=30, n_iter=500,\n",
    "              random_state=0).fit_transform(tfidf)"
   ]
  },
  {
   "cell_type": "markdown",
   "metadata": {},
   "source": [
    "#### Plot of t-SNE colored by cluster ID"
   ]
  },
  {
   "cell_type": "code",
   "execution_count": 22,
   "metadata": {
    "colab": {
     "base_uri": "https://localhost:8080/",
     "height": 472
    },
    "executionInfo": {
     "elapsed": 813,
     "status": "ok",
     "timestamp": 1736254024657,
     "user": {
      "displayName": "Haruto KAWABATA",
      "userId": "07629425452397739361"
     },
     "user_tz": -540
    },
    "id": "a6cFpqOYRV9_",
    "outputId": "164b2ae4-1561-4b42-acc8-37ac39280362"
   },
   "outputs": [
    {
     "data": {
      "image/png": "[encoded data removed]",
      "text/plain": [
       "<Figure size 640x480 with 1 Axes>"
      ]
     },
     "metadata": {},
     "output_type": "display_data"
    }
   ],
   "source": [
    "#plt.figure(figsize=(10,7))\n",
    "plt.title(\"t-SNE (colored by cluster ID)\")\n",
    "marker = '.'\n",
    "for i in range(n_cls):\n",
    "    y1 = Y_tsne[ cls==i ]\n",
    "    plt.scatter(y1[:, 0], y1[:, 1], marker=marker, label=i)\n",
    "\n",
    "plt.xlabel('t-SNE1')\n",
    "plt.ylabel('t-SNE2')\n",
    "plt.legend()\n",
    "plt.show()"
   ]
  },
  {
   "cell_type": "code",
   "execution_count": 23,
   "metadata": {
    "colab": {
     "base_uri": "https://localhost:8080/",
     "height": 0
    },
    "executionInfo": {
     "elapsed": 460,
     "status": "ok",
     "timestamp": 1736254025112,
     "user": {
      "displayName": "Haruto KAWABATA",
      "userId": "07629425452397739361"
     },
     "user_tz": -540
    },
    "id": "-Yn9h-QByZKi",
    "outputId": "9a012068-c3c5-4571-f81d-4023e58895c2"
   },
   "outputs": [
    {
     "data": {
      "image/png": "[encoded data removed]",
      "text/plain": [
       "<Figure size 640x480 with 1 Axes>"
      ]
     },
     "metadata": {},
     "output_type": "display_data"
    },
    {
     "name": "stdout",
     "output_type": "stream",
     "text": [
      "\n",
      "Cluster 0 - Texts near center (within distance 5.0):\n",
      "--------------------------------------------------------------------------------\n",
      "Distance 1.09: 毎朝 時間 起きる\n",
      "Distance 1.78: 毎晩 時間 ベッド 入り 朝 決まっ 時間 起きる こと 習慣 化 する\n",
      "Distance 1.79: 不規則 就寝 時間\n",
      "Distance 1.90: 就寝 時間 毎日 一定 する\n",
      "Distance 3.14: 軽く 目 閉じ 深呼吸 し 心 落ち着ける\n",
      "Distance 3.60: 休日 平日 時間 起床 する\n",
      "Distance 4.06: 就寝 前 深呼吸 取り入れる\n",
      "Distance 4.28: 就寝 前 深呼吸 リラックス する\n",
      "Distance 4.40: 24時間 ジム 夜 訪問 する 軽 め 運動 留める\n",
      "\n",
      "Cluster 1 - Texts near center (within distance 5.0):\n",
      "--------------------------------------------------------------------------------\n",
      "Distance 1.38: 寝室 明る さ 調整 せ 寝る\n",
      "Distance 1.39: 寝室 片付け 放置 する\n",
      "Distance 1.69: 寝室 照明 調整 する\n",
      "Distance 2.15: 寝室 電子機器 置か\n",
      "Distance 2.17: 寝室 照明 暖色系 する\n",
      "Distance 2.50: 寝室 クローゼット 開けっぱなし する\n",
      "Distance 2.65: 寝室 通気 悪く する\n",
      "Distance 3.25: 寝室 物 する\n",
      "Distance 3.69: 寝室 明るい 照明 使う\n",
      "Distance 4.22: 寝室 消音 し テレビ 見る\n",
      "Distance 4.31: 寝室 観葉植物 置く\n",
      "Distance 4.45: 寝室 窓 閉め切っ 換気 し\n",
      "Distance 4.49: 寝室 加湿器 設置 する\n",
      "Distance 4.73: 寝室 テレビ 置く\n",
      "Distance 4.90: 寝室 ピンクソルトランプ 置く\n",
      "Distance 4.92: 寝室 落ち着い 色彩 統一 する\n",
      "\n",
      "Cluster 2 - Texts near center (within distance 5.0):\n",
      "--------------------------------------------------------------------------------\n",
      "Distance 1.73: 休日 昼過ぎ 寝る\n",
      "Distance 2.26: 寝る 前 簡単 マインドフルネス\n",
      "Distance 2.45: 寝る 前 映画 予告編 チェック する\n",
      "Distance 2.70: 寝る 前 簡単 計画 立て\n",
      "Distance 3.66: 毎晩 違う 時間 寝る\n",
      "Distance 3.80: ネガティブ ニュース 寝る 前 チェック する\n",
      "Distance 4.43: 毎晩 時間 寝る こと 習慣 化 する\n"
     ]
    }
   ],
   "source": [
    "def find_texts_near_center(tsne_coords, texts, labels, cluster_id, distance_threshold):\n",
    "    # Get points for the specified cluster\n",
    "    cluster_mask = labels == cluster_id\n",
    "    cluster_coords = tsne_coords[cluster_mask]\n",
    "    cluster_texts = texts[cluster_mask]\n",
    "\n",
    "    # Find cluster center\n",
    "    center = np.mean(cluster_coords, axis=0)\n",
    "\n",
    "    # Calculate distances from center\n",
    "    distances = np.sqrt(np.sum((cluster_coords - center) ** 2, axis=1))\n",
    "\n",
    "    # Find points within threshold\n",
    "    nearby_mask = distances <= distance_threshold\n",
    "    nearby_texts = cluster_texts[nearby_mask]\n",
    "    nearby_distances = distances[nearby_mask]\n",
    "\n",
    "    # Sort by distance\n",
    "    sorted_indices = np.argsort(nearby_distances)\n",
    "    sorted_texts = nearby_texts[sorted_indices]\n",
    "    sorted_distances = nearby_distances[sorted_indices]\n",
    "\n",
    "    return sorted_texts, sorted_distances, center\n",
    "\n",
    "# Convert texts to numpy array for indexing\n",
    "texts_array = np.array(df['text'])\n",
    "\n",
    "# Plot t-SNE with cluster centers\n",
    "plt.title(\"t-SNE with Cluster Centers\")\n",
    "marker = '.'\n",
    "\n",
    "for i in range(n_cls):\n",
    "    y1 = Y_tsne[cls==i]\n",
    "    plt.scatter(y1[:, 0], y1[:, 1], marker=marker, label=f'Cluster {i}')\n",
    "\n",
    "    # Find and plot cluster center\n",
    "    center = np.mean(y1, axis=0)\n",
    "    plt.scatter(center[0], center[1], marker='*', s=200,\n",
    "               c='red', label=f'Center {i}' if i==0 else \"\")\n",
    "\n",
    "plt.xlabel('t-SNE1')\n",
    "plt.ylabel('t-SNE2')\n",
    "plt.legend()\n",
    "plt.show()\n",
    "\n",
    "# Find nearby texts for each cluster\n",
    "distance_threshold = 5.0  # Adjust this value to control the radius\n",
    "\n",
    "for cluster_id in range(n_cls):\n",
    "    print(f\"\\nCluster {cluster_id} - Texts near center (within distance {distance_threshold}):\")\n",
    "    print(\"-\" * 80)\n",
    "\n",
    "    nearby_texts, distances, center = find_texts_near_center(\n",
    "        Y_tsne, texts_array, cls, cluster_id, distance_threshold\n",
    "    )\n",
    "\n",
    "    for text, dist in zip(nearby_texts, distances):\n",
    "        print(f\"Distance {dist:.2f}: {text}\")"
   ]
  },
  {
   "cell_type": "markdown",
   "metadata": {
    "id": "PwaJDxMeRV9_"
   },
   "source": [
    "#### Plot of t-SNE colored by target  "
   ]
  },
  {
   "cell_type": "code",
   "execution_count": 24,
   "metadata": {
    "colab": {
     "base_uri": "https://localhost:8080/",
     "height": 0
    },
    "executionInfo": {
     "elapsed": 392,
     "status": "ok",
     "timestamp": 1736254025500,
     "user": {
      "displayName": "Haruto KAWABATA",
      "userId": "07629425452397739361"
     },
     "user_tz": -540
    },
    "id": "8FBN9JYbRV9_",
    "outputId": "3262b574-a7fe-49f4-8471-f8d4a682aeae",
    "scrolled": true
   },
   "outputs": [
    {
     "data": {
      "image/png": "[encoded data removed]",
      "text/plain": [
       "<Figure size 640x480 with 1 Axes>"
      ]
     },
     "metadata": {},
     "output_type": "display_data"
    }
   ],
   "source": [
    "#plt.figure(figsize=(10,7))\n",
    "plt.title(\"t-SNE (colord by target)\")\n",
    "marker = '.'\n",
    "for i in range(n_cls):\n",
    "    y1 = Y_tsne[ df['Claude-3.5-Sonnet']==i ]\n",
    "    plt.scatter(y1[:, 0], y1[:, 1], marker=marker, label=i)\n",
    "\n",
    "plt.xlabel('t-SNE1')\n",
    "plt.ylabel('t-SNE2')\n",
    "plt.legend()\n",
    "plt.show()"
   ]
  },
  {
   "cell_type": "code",
   "execution_count": 26,
   "metadata": {
    "executionInfo": {
     "elapsed": 6,
     "status": "ok",
     "timestamp": 1736254025501,
     "user": {
      "displayName": "Haruto KAWABATA",
      "userId": "07629425452397739361"
     },
     "user_tz": -540
    },
    "id": "RkHCk_erIC0b"
   },
   "outputs": [],
   "source": []
  }
 ],
 "metadata": {
  "colab": {
   "provenance": []
  },
  "kernelspec": {
   "display_name": "Python 3 (ipykernel)",
   "language": "python",
   "name": "python3"
  },
  "language_info": {
   "codemirror_mode": {
    "name": "ipython",
    "version": 3
   },
   "file_extension": ".py",
   "mimetype": "text/x-python",
   "name": "python",
   "nbconvert_exporter": "python",
   "pygments_lexer": "ipython3",
   "version": "3.9.15"
  }
 },
 "nbformat": 4,
 "nbformat_minor": 4
}
