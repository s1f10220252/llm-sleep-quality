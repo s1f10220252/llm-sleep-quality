{
 "cells": [
  {
   "cell_type": "markdown",
   "metadata": {
    "id": "776hoitZRV93"
   },
   "source": [
    "### Clustering of sleep text scores using OpenAI Text Embedding"
   ]
  },
  {
   "cell_type": "markdown",
   "metadata": {
    "id": "vzP6EJzwRV95"
   },
   "source": [
    "#### Import libraries  "
   ]
  },
  {
   "cell_type": "code",
   "execution_count": 2,
   "metadata": {
    "executionInfo": {
     "elapsed": 14419,
     "status": "ok",
     "timestamp": 1736252670494,
     "user": {
      "displayName": "Haruto KAWABATA",
      "userId": "07629425452397739361"
     },
     "user_tz": -540
    },
    "id": "4hYJhIV_RV96"
   },
   "outputs": [],
   "source": [
    "import numpy as np\n",
    "import pandas as pd\n",
    "import matplotlib.pyplot as plt\n",
    "from sklearn.cluster import KMeans\n",
    "from sklearn.decomposition import PCA\n",
    "from sklearn.manifold import TSNE"
   ]
  },
  {
   "cell_type": "markdown",
   "metadata": {
    "id": "HiXJsIoqRgcr"
   },
   "source": [
    "#### Setup working directory"
   ]
  },
  {
   "cell_type": "code",
   "execution_count": 6,
   "metadata": {
    "colab": {
     "base_uri": "https://localhost:8080/"
    },
    "executionInfo": {
     "elapsed": 19994,
     "status": "ok",
     "timestamp": 1736252690748,
     "user": {
      "displayName": "Haruto KAWABATA",
      "userId": "07629425452397739361"
     },
     "user_tz": -540
    },
    "id": "ZX1982UmRgxg",
    "outputId": "857208b1-fb04-456c-e1c2-4a2c49417603"
   },
   "outputs": [
    {
     "name": "stdout",
     "output_type": "stream",
     "text": [
      "Mounted at /content/drive\n",
      "/content/drive/MyDrive/Documents/ds2024/dsF1\n"
     ]
    }
   ],
   "source": [
    "from google.colab import drive\n",
    "drive.mount('/content/drive')\n",
    "%cd /content/drive/MyDrive/Documents/ds2024/dsF1/"
   ]
  },
  {
   "cell_type": "markdown",
   "metadata": {
    "id": "9VF77D4IRV97"
   },
   "source": [
    "#### Parameters  "
   ]
  },
  {
   "cell_type": "code",
   "execution_count": 7,
   "metadata": {
    "executionInfo": {
     "elapsed": 9,
     "status": "ok",
     "timestamp": 1736252690749,
     "user": {
      "displayName": "Haruto KAWABATA",
      "userId": "07629425452397739361"
     },
     "user_tz": -540
    },
    "id": "2LdC-oNDRV97"
   },
   "outputs": [],
   "source": [
    "csv_in = 'sleep-text-score.csv'\n",
    "vecs_out = 'vecs_sleep_by_openai.npy'"
   ]
  },
  {
   "cell_type": "markdown",
   "metadata": {
    "id": "JFppuPgGRV97"
   },
   "source": [
    "#### Read CSV file  "
   ]
  },
  {
   "cell_type": "code",
   "execution_count": 9,
   "metadata": {
    "colab": {
     "base_uri": "https://localhost:8080/",
     "height": 432
    },
    "executionInfo": {
     "elapsed": 924,
     "status": "ok",
     "timestamp": 1736252691667,
     "user": {
      "displayName": "Haruto KAWABATA",
      "userId": "07629425452397739361"
     },
     "user_tz": -540
    },
    "id": "pDQ14CkcRV97",
    "outputId": "20554c11-d23d-42bd-931b-a2a19100d9ac"
   },
   "outputs": [
    {
     "name": "stdout",
     "output_type": "stream",
     "text": [
      "(426, 4)\n",
      "<class 'pandas.core.frame.DataFrame'>\n",
      "RangeIndex: 426 entries, 0 to 425\n",
      "Data columns (total 4 columns):\n",
      " #   Column             Non-Null Count  Dtype \n",
      "---  ------             --------------  ----- \n",
      " 0   text               426 non-null    object\n",
      " 1   GPT-4o             426 non-null    int64 \n",
      " 2   Gemini-1.5-Pro     426 non-null    int64 \n",
      " 3   Claude-3.5-Sonnet  426 non-null    int64 \n",
      "dtypes: int64(3), object(1)\n",
      "memory usage: 13.4+ KB\n",
      "None\n"
     ]
    },
    {
     "data": {
      "application/vnd.google.colaboratory.intrinsic+json": {
       "summary": "{\n  \"name\": \"display(df\",\n  \"rows\": 5,\n  \"fields\": [\n    {\n      \"column\": \"text\",\n      \"properties\": {\n        \"dtype\": \"string\",\n        \"num_unique_values\": 5,\n        \"samples\": [\n          \"\\u671d\\u65e5\\u3092\\u7a4d\\u6975\\u7684\\u306b\\u6d74\\u3073\\u308b\",\n          \"\\u5bdd\\u5177\\u306f\\u5b9a\\u671f\\u7684\\u306b\\u6e05\\u6f54\\u306b\\u4fdd\\u3064\",\n          \"\\u5bdd\\u5ba4\\u306e\\u6e29\\u5ea6\\u309218-22\\u5ea6\\u306b\\u4fdd\\u3064\"\n        ],\n        \"semantic_type\": \"\",\n        \"description\": \"\"\n      }\n    },\n    {\n      \"column\": \"GPT-4o\",\n      \"properties\": {\n        \"dtype\": \"number\",\n        \"std\": 0,\n        \"min\": 2,\n        \"max\": 2,\n        \"num_unique_values\": 1,\n        \"samples\": [\n          2\n        ],\n        \"semantic_type\": \"\",\n        \"description\": \"\"\n      }\n    },\n    {\n      \"column\": \"Gemini-1.5-Pro\",\n      \"properties\": {\n        \"dtype\": \"number\",\n        \"std\": 0,\n        \"min\": 2,\n        \"max\": 2,\n        \"num_unique_values\": 1,\n        \"samples\": [\n          2\n        ],\n        \"semantic_type\": \"\",\n        \"description\": \"\"\n      }\n    },\n    {\n      \"column\": \"Claude-3.5-Sonnet\",\n      \"properties\": {\n        \"dtype\": \"number\",\n        \"std\": 0,\n        \"min\": 2,\n        \"max\": 2,\n        \"num_unique_values\": 1,\n        \"samples\": [\n          2\n        ],\n        \"semantic_type\": \"\",\n        \"description\": \"\"\n      }\n    }\n  ]\n}",
       "type": "dataframe"
      },
      "text/html": [
       "\n",
       "  <div id=\"df-0284d93e-4ea1-4a3a-ae1d-70b2ef93831b\" class=\"colab-df-container\">\n",
       "    <div>\n",
       "<style scoped>\n",
       "    .dataframe tbody tr th:only-of-type {\n",
       "        vertical-align: middle;\n",
       "    }\n",
       "\n",
       "    .dataframe tbody tr th {\n",
       "        vertical-align: top;\n",
       "    }\n",
       "\n",
       "    .dataframe thead th {\n",
       "        text-align: right;\n",
       "    }\n",
       "</style>\n",
       "<table border=\"1\" class=\"dataframe\">\n",
       "  <thead>\n",
       "    <tr style=\"text-align: right;\">\n",
       "      <th></th>\n",
       "      <th>text</th>\n",
       "      <th>GPT-4o</th>\n",
       "      <th>Gemini-1.5-Pro</th>\n",
       "      <th>Claude-3.5-Sonnet</th>\n",
       "    </tr>\n",
       "  </thead>\n",
       "  <tbody>\n",
       "    <tr>\n",
       "      <th>0</th>\n",
       "      <td>就寝時間を毎日一定にする</td>\n",
       "      <td>2</td>\n",
       "      <td>2</td>\n",
       "      <td>2</td>\n",
       "    </tr>\n",
       "    <tr>\n",
       "      <th>1</th>\n",
       "      <td>朝日を積極的に浴びる</td>\n",
       "      <td>2</td>\n",
       "      <td>2</td>\n",
       "      <td>2</td>\n",
       "    </tr>\n",
       "    <tr>\n",
       "      <th>2</th>\n",
       "      <td>寝室の温度を18-22度に保つ</td>\n",
       "      <td>2</td>\n",
       "      <td>2</td>\n",
       "      <td>2</td>\n",
       "    </tr>\n",
       "    <tr>\n",
       "      <th>3</th>\n",
       "      <td>就寝前のストレッチで体をリラックスさせる</td>\n",
       "      <td>2</td>\n",
       "      <td>2</td>\n",
       "      <td>2</td>\n",
       "    </tr>\n",
       "    <tr>\n",
       "      <th>4</th>\n",
       "      <td>寝具は定期的に清潔に保つ</td>\n",
       "      <td>2</td>\n",
       "      <td>2</td>\n",
       "      <td>2</td>\n",
       "    </tr>\n",
       "  </tbody>\n",
       "</table>\n",
       "</div>\n",
       "    <div class=\"colab-df-buttons\">\n",
       "\n",
       "  <div class=\"colab-df-container\">\n",
       "    <button class=\"colab-df-convert\" onclick=\"convertToInteractive('df-0284d93e-4ea1-4a3a-ae1d-70b2ef93831b')\"\n",
       "            title=\"Convert this dataframe to an interactive table.\"\n",
       "            style=\"display:none;\">\n",
       "\n",
       "  <svg xmlns=\"http://www.w3.org/2000/svg\" height=\"24px\" viewBox=\"0 -960 960 960\">\n",
       "    <path d=\"M120-120v-720h720v720H120Zm60-500h600v-160H180v160Zm220 220h160v-160H400v160Zm0 220h160v-160H400v160ZM180-400h160v-160H180v160Zm440 0h160v-160H620v160ZM180-180h160v-160H180v160Zm440 0h160v-160H620v160Z\"/>\n",
       "  </svg>\n",
       "    </button>\n",
       "\n",
       "  <style>\n",
       "    .colab-df-container {\n",
       "      display:flex;\n",
       "      gap: 12px;\n",
       "    }\n",
       "\n",
       "    .colab-df-convert {\n",
       "      background-color: #E8F0FE;\n",
       "      border: none;\n",
       "      border-radius: 50%;\n",
       "      cursor: pointer;\n",
       "      display: none;\n",
       "      fill: #1967D2;\n",
       "      height: 32px;\n",
       "      padding: 0 0 0 0;\n",
       "      width: 32px;\n",
       "    }\n",
       "\n",
       "    .colab-df-convert:hover {\n",
       "      background-color: #E2EBFA;\n",
       "      box-shadow: 0px 1px 2px rgba(60, 64, 67, 0.3), 0px 1px 3px 1px rgba(60, 64, 67, 0.15);\n",
       "      fill: #174EA6;\n",
       "    }\n",
       "\n",
       "    .colab-df-buttons div {\n",
       "      margin-bottom: 4px;\n",
       "    }\n",
       "\n",
       "    [theme=dark] .colab-df-convert {\n",
       "      background-color: #3B4455;\n",
       "      fill: #D2E3FC;\n",
       "    }\n",
       "\n",
       "    [theme=dark] .colab-df-convert:hover {\n",
       "      background-color: #434B5C;\n",
       "      box-shadow: 0px 1px 3px 1px rgba(0, 0, 0, 0.15);\n",
       "      filter: drop-shadow(0px 1px 2px rgba(0, 0, 0, 0.3));\n",
       "      fill: #FFFFFF;\n",
       "    }\n",
       "  </style>\n",
       "\n",
       "    <script>\n",
       "      const buttonEl =\n",
       "        document.querySelector('#df-0284d93e-4ea1-4a3a-ae1d-70b2ef93831b button.colab-df-convert');\n",
       "      buttonEl.style.display =\n",
       "        google.colab.kernel.accessAllowed ? 'block' : 'none';\n",
       "\n",
       "      async function convertToInteractive(key) {\n",
       "        const element = document.querySelector('#df-0284d93e-4ea1-4a3a-ae1d-70b2ef93831b');\n",
       "        const dataTable =\n",
       "          await google.colab.kernel.invokeFunction('convertToInteractive',\n",
       "                                                    [key], {});\n",
       "        if (!dataTable) return;\n",
       "\n",
       "        const docLinkHtml = 'Like what you see? Visit the ' +\n",
       "          '<a target=\"_blank\" href=https://colab.research.google.com/notebooks/data_table.ipynb>data table notebook</a>'\n",
       "          + ' to learn more about interactive tables.';\n",
       "        element.innerHTML = '';\n",
       "        dataTable['output_type'] = 'display_data';\n",
       "        await google.colab.output.renderOutput(dataTable, element);\n",
       "        const docLink = document.createElement('div');\n",
       "        docLink.innerHTML = docLinkHtml;\n",
       "        element.appendChild(docLink);\n",
       "      }\n",
       "    </script>\n",
       "  </div>\n",
       "\n",
       "\n",
       "<div id=\"df-b6919e21-63a4-4103-98a4-9c5ccec3828f\">\n",
       "  <button class=\"colab-df-quickchart\" onclick=\"quickchart('df-b6919e21-63a4-4103-98a4-9c5ccec3828f')\"\n",
       "            title=\"Suggest charts\"\n",
       "            style=\"display:none;\">\n",
       "\n",
       "<svg xmlns=\"http://www.w3.org/2000/svg\" height=\"24px\"viewBox=\"0 0 24 24\"\n",
       "     width=\"24px\">\n",
       "    <g>\n",
       "        <path d=\"M19 3H5c-1.1 0-2 .9-2 2v14c0 1.1.9 2 2 2h14c1.1 0 2-.9 2-2V5c0-1.1-.9-2-2-2zM9 17H7v-7h2v7zm4 0h-2V7h2v10zm4 0h-2v-4h2v4z\"/>\n",
       "    </g>\n",
       "</svg>\n",
       "  </button>\n",
       "\n",
       "<style>\n",
       "  .colab-df-quickchart {\n",
       "      --bg-color: #E8F0FE;\n",
       "      --fill-color: #1967D2;\n",
       "      --hover-bg-color: #E2EBFA;\n",
       "      --hover-fill-color: #174EA6;\n",
       "      --disabled-fill-color: #AAA;\n",
       "      --disabled-bg-color: #DDD;\n",
       "  }\n",
       "\n",
       "  [theme=dark] .colab-df-quickchart {\n",
       "      --bg-color: #3B4455;\n",
       "      --fill-color: #D2E3FC;\n",
       "      --hover-bg-color: #434B5C;\n",
       "      --hover-fill-color: #FFFFFF;\n",
       "      --disabled-bg-color: #3B4455;\n",
       "      --disabled-fill-color: #666;\n",
       "  }\n",
       "\n",
       "  .colab-df-quickchart {\n",
       "    background-color: var(--bg-color);\n",
       "    border: none;\n",
       "    border-radius: 50%;\n",
       "    cursor: pointer;\n",
       "    display: none;\n",
       "    fill: var(--fill-color);\n",
       "    height: 32px;\n",
       "    padding: 0;\n",
       "    width: 32px;\n",
       "  }\n",
       "\n",
       "  .colab-df-quickchart:hover {\n",
       "    background-color: var(--hover-bg-color);\n",
       "    box-shadow: 0 1px 2px rgba(60, 64, 67, 0.3), 0 1px 3px 1px rgba(60, 64, 67, 0.15);\n",
       "    fill: var(--button-hover-fill-color);\n",
       "  }\n",
       "\n",
       "  .colab-df-quickchart-complete:disabled,\n",
       "  .colab-df-quickchart-complete:disabled:hover {\n",
       "    background-color: var(--disabled-bg-color);\n",
       "    fill: var(--disabled-fill-color);\n",
       "    box-shadow: none;\n",
       "  }\n",
       "\n",
       "  .colab-df-spinner {\n",
       "    border: 2px solid var(--fill-color);\n",
       "    border-color: transparent;\n",
       "    border-bottom-color: var(--fill-color);\n",
       "    animation:\n",
       "      spin 1s steps(1) infinite;\n",
       "  }\n",
       "\n",
       "  @keyframes spin {\n",
       "    0% {\n",
       "      border-color: transparent;\n",
       "      border-bottom-color: var(--fill-color);\n",
       "      border-left-color: var(--fill-color);\n",
       "    }\n",
       "    20% {\n",
       "      border-color: transparent;\n",
       "      border-left-color: var(--fill-color);\n",
       "      border-top-color: var(--fill-color);\n",
       "    }\n",
       "    30% {\n",
       "      border-color: transparent;\n",
       "      border-left-color: var(--fill-color);\n",
       "      border-top-color: var(--fill-color);\n",
       "      border-right-color: var(--fill-color);\n",
       "    }\n",
       "    40% {\n",
       "      border-color: transparent;\n",
       "      border-right-color: var(--fill-color);\n",
       "      border-top-color: var(--fill-color);\n",
       "    }\n",
       "    60% {\n",
       "      border-color: transparent;\n",
       "      border-right-color: var(--fill-color);\n",
       "    }\n",
       "    80% {\n",
       "      border-color: transparent;\n",
       "      border-right-color: var(--fill-color);\n",
       "      border-bottom-color: var(--fill-color);\n",
       "    }\n",
       "    90% {\n",
       "      border-color: transparent;\n",
       "      border-bottom-color: var(--fill-color);\n",
       "    }\n",
       "  }\n",
       "</style>\n",
       "\n",
       "  <script>\n",
       "    async function quickchart(key) {\n",
       "      const quickchartButtonEl =\n",
       "        document.querySelector('#' + key + ' button');\n",
       "      quickchartButtonEl.disabled = true;  // To prevent multiple clicks.\n",
       "      quickchartButtonEl.classList.add('colab-df-spinner');\n",
       "      try {\n",
       "        const charts = await google.colab.kernel.invokeFunction(\n",
       "            'suggestCharts', [key], {});\n",
       "      } catch (error) {\n",
       "        console.error('Error during call to suggestCharts:', error);\n",
       "      }\n",
       "      quickchartButtonEl.classList.remove('colab-df-spinner');\n",
       "      quickchartButtonEl.classList.add('colab-df-quickchart-complete');\n",
       "    }\n",
       "    (() => {\n",
       "      let quickchartButtonEl =\n",
       "        document.querySelector('#df-b6919e21-63a4-4103-98a4-9c5ccec3828f button');\n",
       "      quickchartButtonEl.style.display =\n",
       "        google.colab.kernel.accessAllowed ? 'block' : 'none';\n",
       "    })();\n",
       "  </script>\n",
       "</div>\n",
       "\n",
       "    </div>\n",
       "  </div>\n"
      ],
      "text/plain": [
       "                   text  GPT-4o  Gemini-1.5-Pro  Claude-3.5-Sonnet\n",
       "0          就寝時間を毎日一定にする       2               2                  2\n",
       "1            朝日を積極的に浴びる       2               2                  2\n",
       "2       寝室の温度を18-22度に保つ       2               2                  2\n",
       "3  就寝前のストレッチで体をリラックスさせる       2               2                  2\n",
       "4          寝具は定期的に清潔に保つ       2               2                  2"
      ]
     },
     "metadata": {},
     "output_type": "display_data"
    }
   ],
   "source": [
    "df = pd.read_csv(csv_in, sep=',', skiprows=0, header=0, encoding='shift-jis')\n",
    "print(df.shape)\n",
    "print(df.info())\n",
    "display(df.head())"
   ]
  },
  {
   "cell_type": "code",
   "execution_count": 10,
   "metadata": {
    "colab": {
     "base_uri": "https://localhost:8080/",
     "height": 397
    },
    "executionInfo": {
     "elapsed": 27,
     "status": "ok",
     "timestamp": 1736252691668,
     "user": {
      "displayName": "Haruto KAWABATA",
      "userId": "07629425452397739361"
     },
     "user_tz": -540
    },
    "id": "QYMhUMu70ph_",
    "outputId": "d60b6d2f-f3ee-498a-a3d0-240db4322e6f"
   },
   "outputs": [
    {
     "name": "stdout",
     "output_type": "stream",
     "text": [
      "(426, 2)\n",
      "<class 'pandas.core.frame.DataFrame'>\n",
      "RangeIndex: 426 entries, 0 to 425\n",
      "Data columns (total 2 columns):\n",
      " #   Column          Non-Null Count  Dtype \n",
      "---  ------          --------------  ----- \n",
      " 0   text            426 non-null    object\n",
      " 1   Gemini-1.5-Pro  426 non-null    int64 \n",
      "dtypes: int64(1), object(1)\n",
      "memory usage: 6.8+ KB\n",
      "None\n"
     ]
    },
    {
     "data": {
      "application/vnd.google.colaboratory.intrinsic+json": {
       "summary": "{\n  \"name\": \"display(df\",\n  \"rows\": 5,\n  \"fields\": [\n    {\n      \"column\": \"text\",\n      \"properties\": {\n        \"dtype\": \"string\",\n        \"num_unique_values\": 5,\n        \"samples\": [\n          \"\\u671d\\u65e5\\u3092\\u7a4d\\u6975\\u7684\\u306b\\u6d74\\u3073\\u308b\",\n          \"\\u5bdd\\u5177\\u306f\\u5b9a\\u671f\\u7684\\u306b\\u6e05\\u6f54\\u306b\\u4fdd\\u3064\",\n          \"\\u5bdd\\u5ba4\\u306e\\u6e29\\u5ea6\\u309218-22\\u5ea6\\u306b\\u4fdd\\u3064\"\n        ],\n        \"semantic_type\": \"\",\n        \"description\": \"\"\n      }\n    },\n    {\n      \"column\": \"Gemini-1.5-Pro\",\n      \"properties\": {\n        \"dtype\": \"number\",\n        \"std\": 0,\n        \"min\": 2,\n        \"max\": 2,\n        \"num_unique_values\": 1,\n        \"samples\": [\n          2\n        ],\n        \"semantic_type\": \"\",\n        \"description\": \"\"\n      }\n    }\n  ]\n}",
       "type": "dataframe"
      },
      "text/html": [
       "\n",
       "  <div id=\"df-76f4ba2f-4579-406c-b30e-72da50449046\" class=\"colab-df-container\">\n",
       "    <div>\n",
       "<style scoped>\n",
       "    .dataframe tbody tr th:only-of-type {\n",
       "        vertical-align: middle;\n",
       "    }\n",
       "\n",
       "    .dataframe tbody tr th {\n",
       "        vertical-align: top;\n",
       "    }\n",
       "\n",
       "    .dataframe thead th {\n",
       "        text-align: right;\n",
       "    }\n",
       "</style>\n",
       "<table border=\"1\" class=\"dataframe\">\n",
       "  <thead>\n",
       "    <tr style=\"text-align: right;\">\n",
       "      <th></th>\n",
       "      <th>text</th>\n",
       "      <th>Gemini-1.5-Pro</th>\n",
       "    </tr>\n",
       "  </thead>\n",
       "  <tbody>\n",
       "    <tr>\n",
       "      <th>0</th>\n",
       "      <td>就寝時間を毎日一定にする</td>\n",
       "      <td>2</td>\n",
       "    </tr>\n",
       "    <tr>\n",
       "      <th>1</th>\n",
       "      <td>朝日を積極的に浴びる</td>\n",
       "      <td>2</td>\n",
       "    </tr>\n",
       "    <tr>\n",
       "      <th>2</th>\n",
       "      <td>寝室の温度を18-22度に保つ</td>\n",
       "      <td>2</td>\n",
       "    </tr>\n",
       "    <tr>\n",
       "      <th>3</th>\n",
       "      <td>就寝前のストレッチで体をリラックスさせる</td>\n",
       "      <td>2</td>\n",
       "    </tr>\n",
       "    <tr>\n",
       "      <th>4</th>\n",
       "      <td>寝具は定期的に清潔に保つ</td>\n",
       "      <td>2</td>\n",
       "    </tr>\n",
       "  </tbody>\n",
       "</table>\n",
       "</div>\n",
       "    <div class=\"colab-df-buttons\">\n",
       "\n",
       "  <div class=\"colab-df-container\">\n",
       "    <button class=\"colab-df-convert\" onclick=\"convertToInteractive('df-76f4ba2f-4579-406c-b30e-72da50449046')\"\n",
       "            title=\"Convert this dataframe to an interactive table.\"\n",
       "            style=\"display:none;\">\n",
       "\n",
       "  <svg xmlns=\"http://www.w3.org/2000/svg\" height=\"24px\" viewBox=\"0 -960 960 960\">\n",
       "    <path d=\"M120-120v-720h720v720H120Zm60-500h600v-160H180v160Zm220 220h160v-160H400v160Zm0 220h160v-160H400v160ZM180-400h160v-160H180v160Zm440 0h160v-160H620v160ZM180-180h160v-160H180v160Zm440 0h160v-160H620v160Z\"/>\n",
       "  </svg>\n",
       "    </button>\n",
       "\n",
       "  <style>\n",
       "    .colab-df-container {\n",
       "      display:flex;\n",
       "      gap: 12px;\n",
       "    }\n",
       "\n",
       "    .colab-df-convert {\n",
       "      background-color: #E8F0FE;\n",
       "      border: none;\n",
       "      border-radius: 50%;\n",
       "      cursor: pointer;\n",
       "      display: none;\n",
       "      fill: #1967D2;\n",
       "      height: 32px;\n",
       "      padding: 0 0 0 0;\n",
       "      width: 32px;\n",
       "    }\n",
       "\n",
       "    .colab-df-convert:hover {\n",
       "      background-color: #E2EBFA;\n",
       "      box-shadow: 0px 1px 2px rgba(60, 64, 67, 0.3), 0px 1px 3px 1px rgba(60, 64, 67, 0.15);\n",
       "      fill: #174EA6;\n",
       "    }\n",
       "\n",
       "    .colab-df-buttons div {\n",
       "      margin-bottom: 4px;\n",
       "    }\n",
       "\n",
       "    [theme=dark] .colab-df-convert {\n",
       "      background-color: #3B4455;\n",
       "      fill: #D2E3FC;\n",
       "    }\n",
       "\n",
       "    [theme=dark] .colab-df-convert:hover {\n",
       "      background-color: #434B5C;\n",
       "      box-shadow: 0px 1px 3px 1px rgba(0, 0, 0, 0.15);\n",
       "      filter: drop-shadow(0px 1px 2px rgba(0, 0, 0, 0.3));\n",
       "      fill: #FFFFFF;\n",
       "    }\n",
       "  </style>\n",
       "\n",
       "    <script>\n",
       "      const buttonEl =\n",
       "        document.querySelector('#df-76f4ba2f-4579-406c-b30e-72da50449046 button.colab-df-convert');\n",
       "      buttonEl.style.display =\n",
       "        google.colab.kernel.accessAllowed ? 'block' : 'none';\n",
       "\n",
       "      async function convertToInteractive(key) {\n",
       "        const element = document.querySelector('#df-76f4ba2f-4579-406c-b30e-72da50449046');\n",
       "        const dataTable =\n",
       "          await google.colab.kernel.invokeFunction('convertToInteractive',\n",
       "                                                    [key], {});\n",
       "        if (!dataTable) return;\n",
       "\n",
       "        const docLinkHtml = 'Like what you see? Visit the ' +\n",
       "          '<a target=\"_blank\" href=https://colab.research.google.com/notebooks/data_table.ipynb>data table notebook</a>'\n",
       "          + ' to learn more about interactive tables.';\n",
       "        element.innerHTML = '';\n",
       "        dataTable['output_type'] = 'display_data';\n",
       "        await google.colab.output.renderOutput(dataTable, element);\n",
       "        const docLink = document.createElement('div');\n",
       "        docLink.innerHTML = docLinkHtml;\n",
       "        element.appendChild(docLink);\n",
       "      }\n",
       "    </script>\n",
       "  </div>\n",
       "\n",
       "\n",
       "<div id=\"df-cfc64d96-d693-4ae0-b707-1f2d51081ce7\">\n",
       "  <button class=\"colab-df-quickchart\" onclick=\"quickchart('df-cfc64d96-d693-4ae0-b707-1f2d51081ce7')\"\n",
       "            title=\"Suggest charts\"\n",
       "            style=\"display:none;\">\n",
       "\n",
       "<svg xmlns=\"http://www.w3.org/2000/svg\" height=\"24px\"viewBox=\"0 0 24 24\"\n",
       "     width=\"24px\">\n",
       "    <g>\n",
       "        <path d=\"M19 3H5c-1.1 0-2 .9-2 2v14c0 1.1.9 2 2 2h14c1.1 0 2-.9 2-2V5c0-1.1-.9-2-2-2zM9 17H7v-7h2v7zm4 0h-2V7h2v10zm4 0h-2v-4h2v4z\"/>\n",
       "    </g>\n",
       "</svg>\n",
       "  </button>\n",
       "\n",
       "<style>\n",
       "  .colab-df-quickchart {\n",
       "      --bg-color: #E8F0FE;\n",
       "      --fill-color: #1967D2;\n",
       "      --hover-bg-color: #E2EBFA;\n",
       "      --hover-fill-color: #174EA6;\n",
       "      --disabled-fill-color: #AAA;\n",
       "      --disabled-bg-color: #DDD;\n",
       "  }\n",
       "\n",
       "  [theme=dark] .colab-df-quickchart {\n",
       "      --bg-color: #3B4455;\n",
       "      --fill-color: #D2E3FC;\n",
       "      --hover-bg-color: #434B5C;\n",
       "      --hover-fill-color: #FFFFFF;\n",
       "      --disabled-bg-color: #3B4455;\n",
       "      --disabled-fill-color: #666;\n",
       "  }\n",
       "\n",
       "  .colab-df-quickchart {\n",
       "    background-color: var(--bg-color);\n",
       "    border: none;\n",
       "    border-radius: 50%;\n",
       "    cursor: pointer;\n",
       "    display: none;\n",
       "    fill: var(--fill-color);\n",
       "    height: 32px;\n",
       "    padding: 0;\n",
       "    width: 32px;\n",
       "  }\n",
       "\n",
       "  .colab-df-quickchart:hover {\n",
       "    background-color: var(--hover-bg-color);\n",
       "    box-shadow: 0 1px 2px rgba(60, 64, 67, 0.3), 0 1px 3px 1px rgba(60, 64, 67, 0.15);\n",
       "    fill: var(--button-hover-fill-color);\n",
       "  }\n",
       "\n",
       "  .colab-df-quickchart-complete:disabled,\n",
       "  .colab-df-quickchart-complete:disabled:hover {\n",
       "    background-color: var(--disabled-bg-color);\n",
       "    fill: var(--disabled-fill-color);\n",
       "    box-shadow: none;\n",
       "  }\n",
       "\n",
       "  .colab-df-spinner {\n",
       "    border: 2px solid var(--fill-color);\n",
       "    border-color: transparent;\n",
       "    border-bottom-color: var(--fill-color);\n",
       "    animation:\n",
       "      spin 1s steps(1) infinite;\n",
       "  }\n",
       "\n",
       "  @keyframes spin {\n",
       "    0% {\n",
       "      border-color: transparent;\n",
       "      border-bottom-color: var(--fill-color);\n",
       "      border-left-color: var(--fill-color);\n",
       "    }\n",
       "    20% {\n",
       "      border-color: transparent;\n",
       "      border-left-color: var(--fill-color);\n",
       "      border-top-color: var(--fill-color);\n",
       "    }\n",
       "    30% {\n",
       "      border-color: transparent;\n",
       "      border-left-color: var(--fill-color);\n",
       "      border-top-color: var(--fill-color);\n",
       "      border-right-color: var(--fill-color);\n",
       "    }\n",
       "    40% {\n",
       "      border-color: transparent;\n",
       "      border-right-color: var(--fill-color);\n",
       "      border-top-color: var(--fill-color);\n",
       "    }\n",
       "    60% {\n",
       "      border-color: transparent;\n",
       "      border-right-color: var(--fill-color);\n",
       "    }\n",
       "    80% {\n",
       "      border-color: transparent;\n",
       "      border-right-color: var(--fill-color);\n",
       "      border-bottom-color: var(--fill-color);\n",
       "    }\n",
       "    90% {\n",
       "      border-color: transparent;\n",
       "      border-bottom-color: var(--fill-color);\n",
       "    }\n",
       "  }\n",
       "</style>\n",
       "\n",
       "  <script>\n",
       "    async function quickchart(key) {\n",
       "      const quickchartButtonEl =\n",
       "        document.querySelector('#' + key + ' button');\n",
       "      quickchartButtonEl.disabled = true;  // To prevent multiple clicks.\n",
       "      quickchartButtonEl.classList.add('colab-df-spinner');\n",
       "      try {\n",
       "        const charts = await google.colab.kernel.invokeFunction(\n",
       "            'suggestCharts', [key], {});\n",
       "      } catch (error) {\n",
       "        console.error('Error during call to suggestCharts:', error);\n",
       "      }\n",
       "      quickchartButtonEl.classList.remove('colab-df-spinner');\n",
       "      quickchartButtonEl.classList.add('colab-df-quickchart-complete');\n",
       "    }\n",
       "    (() => {\n",
       "      let quickchartButtonEl =\n",
       "        document.querySelector('#df-cfc64d96-d693-4ae0-b707-1f2d51081ce7 button');\n",
       "      quickchartButtonEl.style.display =\n",
       "        google.colab.kernel.accessAllowed ? 'block' : 'none';\n",
       "    })();\n",
       "  </script>\n",
       "</div>\n",
       "\n",
       "    </div>\n",
       "  </div>\n"
      ],
      "text/plain": [
       "                   text  Gemini-1.5-Pro\n",
       "0          就寝時間を毎日一定にする               2\n",
       "1            朝日を積極的に浴びる               2\n",
       "2       寝室の温度を18-22度に保つ               2\n",
       "3  就寝前のストレッチで体をリラックスさせる               2\n",
       "4          寝具は定期的に清潔に保つ               2"
      ]
     },
     "metadata": {},
     "output_type": "display_data"
    }
   ],
   "source": [
    "df = df[['text', 'Gemini-1.5-Pro']]\n",
    "print(df.shape)\n",
    "print(df.info())\n",
    "display(df.head())"
   ]
  },
  {
   "cell_type": "markdown",
   "metadata": {
    "id": "bmy_T47hRV98"
   },
   "source": [
    "#### Check the number of documents in each category  "
   ]
  },
  {
   "cell_type": "code",
   "execution_count": 11,
   "metadata": {
    "colab": {
     "base_uri": "https://localhost:8080/"
    },
    "executionInfo": {
     "elapsed": 24,
     "status": "ok",
     "timestamp": 1736252691668,
     "user": {
      "displayName": "Haruto KAWABATA",
      "userId": "07629425452397739361"
     },
     "user_tz": -540
    },
    "id": "Hq6SsZO7RV99",
    "outputId": "f27bb9d0-0d25-41b0-94f9-383de7223f77"
   },
   "outputs": [
    {
     "name": "stdout",
     "output_type": "stream",
     "text": [
      "Gemini-1.5-Pro\n",
      "0    182\n",
      "1     75\n",
      "2    169\n",
      "Name: count, dtype: int64\n"
     ]
    }
   ],
   "source": [
    "print(df['Gemini-1.5-Pro'].value_counts().sort_index(ascending=True))"
   ]
  },
  {
   "cell_type": "markdown",
   "metadata": {
    "id": "_HiruVN0t4dy"
   },
   "source": [
    "#### Load vecs"
   ]
  },
  {
   "cell_type": "code",
   "execution_count": 16,
   "metadata": {
    "executionInfo": {
     "elapsed": 653,
     "status": "ok",
     "timestamp": 1736252692596,
     "user": {
      "displayName": "Haruto KAWABATA",
      "userId": "07629425452397739361"
     },
     "user_tz": -540
    },
    "id": "d8_iR8a3tP6_"
   },
   "outputs": [],
   "source": [
    "vecs = np.load(vecs_out)"
   ]
  },
  {
   "cell_type": "code",
   "execution_count": 17,
   "metadata": {
    "colab": {
     "base_uri": "https://localhost:8080/"
    },
    "executionInfo": {
     "elapsed": 6,
     "status": "ok",
     "timestamp": 1736252692597,
     "user": {
      "displayName": "Haruto KAWABATA",
      "userId": "07629425452397739361"
     },
     "user_tz": -540
    },
    "id": "V-6sl96CuB81",
    "outputId": "11ad90b9-850a-4e7a-86a7-8b33fc5573a7"
   },
   "outputs": [
    {
     "name": "stdout",
     "output_type": "stream",
     "text": [
      "(426, 1536)\n"
     ]
    }
   ],
   "source": [
    "print(vecs.shape)"
   ]
  },
  {
   "cell_type": "markdown",
   "metadata": {
    "id": "CacUDNPtRV9-"
   },
   "source": [
    "#### Elbow method to determine the number of clusters  "
   ]
  },
  {
   "cell_type": "code",
   "execution_count": 19,
   "metadata": {
    "colab": {
     "base_uri": "https://localhost:8080/",
     "height": 484
    },
    "executionInfo": {
     "elapsed": 5716,
     "status": "ok",
     "timestamp": 1736252698310,
     "user": {
      "displayName": "Haruto KAWABATA",
      "userId": "07629425452397739361"
     },
     "user_tz": -540
    },
    "id": "bwab2vVORV9-",
    "outputId": "dbb7066a-8c99-4da1-e361-052ee128e5d8"
   },
   "outputs": [
    {
     "data": {
      "image/png": "[encoded data removed]",
      "text/plain": [
       "<Figure size 640x480 with 1 Axes>"
      ]
     },
     "metadata": {},
     "output_type": "display_data"
    },
    {
     "name": "stdout",
     "output_type": "stream",
     "text": [
      "CPU times: user 4.04 s, sys: 2.62 s, total: 6.67 s\n",
      "Wall time: 5.39 s\n"
     ]
    }
   ],
   "source": [
    "%%time\n",
    "\n",
    "max_cls = 10\n",
    "distortions = []\n",
    "for i in range(1, max_cls+1):\n",
    "    km = KMeans(n_clusters=i, n_init=10)\n",
    "    km.fit(vecs)\n",
    "    distortions.append(km.inertia_)\n",
    "plt.plot(range(1, max_cls+1), distortions, marker='o')\n",
    "plt.xlabel('Number of clusters')\n",
    "plt.ylabel('Distortion')\n",
    "plt.show()"
   ]
  },
  {
   "cell_type": "markdown",
   "metadata": {
    "id": "MTRhPN7jRV9-"
   },
   "source": [
    "#### K-Means clustering  "
   ]
  },
  {
   "cell_type": "code",
   "execution_count": 20,
   "metadata": {
    "executionInfo": {
     "elapsed": 687,
     "status": "ok",
     "timestamp": 1736252698993,
     "user": {
      "displayName": "Haruto KAWABATA",
      "userId": "07629425452397739361"
     },
     "user_tz": -540
    },
    "id": "GW9LtLPVRV9-"
   },
   "outputs": [],
   "source": [
    "n_cls = 3\n",
    "km = KMeans(n_clusters=n_cls, n_init=10, random_state=7)\n",
    "cls = km.fit_predict(vecs)"
   ]
  },
  {
   "cell_type": "markdown",
   "metadata": {
    "id": "x667b2G2RV9-"
   },
   "source": [
    "#### Check correspondence of target and clusters  "
   ]
  },
  {
   "cell_type": "code",
   "execution_count": 21,
   "metadata": {
    "colab": {
     "base_uri": "https://localhost:8080/",
     "height": 175
    },
    "executionInfo": {
     "elapsed": 9,
     "status": "ok",
     "timestamp": 1736252698993,
     "user": {
      "displayName": "Haruto KAWABATA",
      "userId": "07629425452397739361"
     },
     "user_tz": -540
    },
    "id": "YDNgAcfXRV9-",
    "outputId": "9a693951-a1cd-4ef8-d473-fe8eedf3abc9"
   },
   "outputs": [
    {
     "data": {
      "application/vnd.google.colaboratory.intrinsic+json": {
       "summary": "{\n  \"name\": \"display(pd\",\n  \"rows\": 3,\n  \"fields\": [\n    {\n      \"column\": \"Gemini-1.5-Pro\",\n      \"properties\": {\n        \"dtype\": \"number\",\n        \"std\": 1,\n        \"min\": 0,\n        \"max\": 2,\n        \"num_unique_values\": 3,\n        \"samples\": [\n          0,\n          1,\n          2\n        ],\n        \"semantic_type\": \"\",\n        \"description\": \"\"\n      }\n    },\n    {\n      \"column\": 0,\n      \"properties\": {\n        \"dtype\": \"number\",\n        \"std\": 13,\n        \"min\": 15,\n        \"max\": 41,\n        \"num_unique_values\": 3,\n        \"samples\": [\n          41,\n          15,\n          31\n        ],\n        \"semantic_type\": \"\",\n        \"description\": \"\"\n      }\n    },\n    {\n      \"column\": 1,\n      \"properties\": {\n        \"dtype\": \"number\",\n        \"std\": 25,\n        \"min\": 35,\n        \"max\": 85,\n        \"num_unique_values\": 3,\n        \"samples\": [\n          62,\n          35,\n          85\n        ],\n        \"semantic_type\": \"\",\n        \"description\": \"\"\n      }\n    },\n    {\n      \"column\": 2,\n      \"properties\": {\n        \"dtype\": \"number\",\n        \"std\": 27,\n        \"min\": 25,\n        \"max\": 79,\n        \"num_unique_values\": 3,\n        \"samples\": [\n          79,\n          25,\n          53\n        ],\n        \"semantic_type\": \"\",\n        \"description\": \"\"\n      }\n    }\n  ]\n}",
       "type": "dataframe"
      },
      "text/html": [
       "\n",
       "  <div id=\"df-fb80b251-b8a7-431d-bb79-a9bebf244324\" class=\"colab-df-container\">\n",
       "    <div>\n",
       "<style scoped>\n",
       "    .dataframe tbody tr th:only-of-type {\n",
       "        vertical-align: middle;\n",
       "    }\n",
       "\n",
       "    .dataframe tbody tr th {\n",
       "        vertical-align: top;\n",
       "    }\n",
       "\n",
       "    .dataframe thead th {\n",
       "        text-align: right;\n",
       "    }\n",
       "</style>\n",
       "<table border=\"1\" class=\"dataframe\">\n",
       "  <thead>\n",
       "    <tr style=\"text-align: right;\">\n",
       "      <th>col_0</th>\n",
       "      <th>0</th>\n",
       "      <th>1</th>\n",
       "      <th>2</th>\n",
       "    </tr>\n",
       "    <tr>\n",
       "      <th>Gemini-1.5-Pro</th>\n",
       "      <th></th>\n",
       "      <th></th>\n",
       "      <th></th>\n",
       "    </tr>\n",
       "  </thead>\n",
       "  <tbody>\n",
       "    <tr>\n",
       "      <th>0</th>\n",
       "      <td>41</td>\n",
       "      <td>62</td>\n",
       "      <td>79</td>\n",
       "    </tr>\n",
       "    <tr>\n",
       "      <th>1</th>\n",
       "      <td>15</td>\n",
       "      <td>35</td>\n",
       "      <td>25</td>\n",
       "    </tr>\n",
       "    <tr>\n",
       "      <th>2</th>\n",
       "      <td>31</td>\n",
       "      <td>85</td>\n",
       "      <td>53</td>\n",
       "    </tr>\n",
       "  </tbody>\n",
       "</table>\n",
       "</div>\n",
       "    <div class=\"colab-df-buttons\">\n",
       "\n",
       "  <div class=\"colab-df-container\">\n",
       "    <button class=\"colab-df-convert\" onclick=\"convertToInteractive('df-fb80b251-b8a7-431d-bb79-a9bebf244324')\"\n",
       "            title=\"Convert this dataframe to an interactive table.\"\n",
       "            style=\"display:none;\">\n",
       "\n",
       "  <svg xmlns=\"http://www.w3.org/2000/svg\" height=\"24px\" viewBox=\"0 -960 960 960\">\n",
       "    <path d=\"M120-120v-720h720v720H120Zm60-500h600v-160H180v160Zm220 220h160v-160H400v160Zm0 220h160v-160H400v160ZM180-400h160v-160H180v160Zm440 0h160v-160H620v160ZM180-180h160v-160H180v160Zm440 0h160v-160H620v160Z\"/>\n",
       "  </svg>\n",
       "    </button>\n",
       "\n",
       "  <style>\n",
       "    .colab-df-container {\n",
       "      display:flex;\n",
       "      gap: 12px;\n",
       "    }\n",
       "\n",
       "    .colab-df-convert {\n",
       "      background-color: #E8F0FE;\n",
       "      border: none;\n",
       "      border-radius: 50%;\n",
       "      cursor: pointer;\n",
       "      display: none;\n",
       "      fill: #1967D2;\n",
       "      height: 32px;\n",
       "      padding: 0 0 0 0;\n",
       "      width: 32px;\n",
       "    }\n",
       "\n",
       "    .colab-df-convert:hover {\n",
       "      background-color: #E2EBFA;\n",
       "      box-shadow: 0px 1px 2px rgba(60, 64, 67, 0.3), 0px 1px 3px 1px rgba(60, 64, 67, 0.15);\n",
       "      fill: #174EA6;\n",
       "    }\n",
       "\n",
       "    .colab-df-buttons div {\n",
       "      margin-bottom: 4px;\n",
       "    }\n",
       "\n",
       "    [theme=dark] .colab-df-convert {\n",
       "      background-color: #3B4455;\n",
       "      fill: #D2E3FC;\n",
       "    }\n",
       "\n",
       "    [theme=dark] .colab-df-convert:hover {\n",
       "      background-color: #434B5C;\n",
       "      box-shadow: 0px 1px 3px 1px rgba(0, 0, 0, 0.15);\n",
       "      filter: drop-shadow(0px 1px 2px rgba(0, 0, 0, 0.3));\n",
       "      fill: #FFFFFF;\n",
       "    }\n",
       "  </style>\n",
       "\n",
       "    <script>\n",
       "      const buttonEl =\n",
       "        document.querySelector('#df-fb80b251-b8a7-431d-bb79-a9bebf244324 button.colab-df-convert');\n",
       "      buttonEl.style.display =\n",
       "        google.colab.kernel.accessAllowed ? 'block' : 'none';\n",
       "\n",
       "      async function convertToInteractive(key) {\n",
       "        const element = document.querySelector('#df-fb80b251-b8a7-431d-bb79-a9bebf244324');\n",
       "        const dataTable =\n",
       "          await google.colab.kernel.invokeFunction('convertToInteractive',\n",
       "                                                    [key], {});\n",
       "        if (!dataTable) return;\n",
       "\n",
       "        const docLinkHtml = 'Like what you see? Visit the ' +\n",
       "          '<a target=\"_blank\" href=https://colab.research.google.com/notebooks/data_table.ipynb>data table notebook</a>'\n",
       "          + ' to learn more about interactive tables.';\n",
       "        element.innerHTML = '';\n",
       "        dataTable['output_type'] = 'display_data';\n",
       "        await google.colab.output.renderOutput(dataTable, element);\n",
       "        const docLink = document.createElement('div');\n",
       "        docLink.innerHTML = docLinkHtml;\n",
       "        element.appendChild(docLink);\n",
       "      }\n",
       "    </script>\n",
       "  </div>\n",
       "\n",
       "\n",
       "<div id=\"df-cf438b7c-792d-4600-a1d1-f91370afb60e\">\n",
       "  <button class=\"colab-df-quickchart\" onclick=\"quickchart('df-cf438b7c-792d-4600-a1d1-f91370afb60e')\"\n",
       "            title=\"Suggest charts\"\n",
       "            style=\"display:none;\">\n",
       "\n",
       "<svg xmlns=\"http://www.w3.org/2000/svg\" height=\"24px\"viewBox=\"0 0 24 24\"\n",
       "     width=\"24px\">\n",
       "    <g>\n",
       "        <path d=\"M19 3H5c-1.1 0-2 .9-2 2v14c0 1.1.9 2 2 2h14c1.1 0 2-.9 2-2V5c0-1.1-.9-2-2-2zM9 17H7v-7h2v7zm4 0h-2V7h2v10zm4 0h-2v-4h2v4z\"/>\n",
       "    </g>\n",
       "</svg>\n",
       "  </button>\n",
       "\n",
       "<style>\n",
       "  .colab-df-quickchart {\n",
       "      --bg-color: #E8F0FE;\n",
       "      --fill-color: #1967D2;\n",
       "      --hover-bg-color: #E2EBFA;\n",
       "      --hover-fill-color: #174EA6;\n",
       "      --disabled-fill-color: #AAA;\n",
       "      --disabled-bg-color: #DDD;\n",
       "  }\n",
       "\n",
       "  [theme=dark] .colab-df-quickchart {\n",
       "      --bg-color: #3B4455;\n",
       "      --fill-color: #D2E3FC;\n",
       "      --hover-bg-color: #434B5C;\n",
       "      --hover-fill-color: #FFFFFF;\n",
       "      --disabled-bg-color: #3B4455;\n",
       "      --disabled-fill-color: #666;\n",
       "  }\n",
       "\n",
       "  .colab-df-quickchart {\n",
       "    background-color: var(--bg-color);\n",
       "    border: none;\n",
       "    border-radius: 50%;\n",
       "    cursor: pointer;\n",
       "    display: none;\n",
       "    fill: var(--fill-color);\n",
       "    height: 32px;\n",
       "    padding: 0;\n",
       "    width: 32px;\n",
       "  }\n",
       "\n",
       "  .colab-df-quickchart:hover {\n",
       "    background-color: var(--hover-bg-color);\n",
       "    box-shadow: 0 1px 2px rgba(60, 64, 67, 0.3), 0 1px 3px 1px rgba(60, 64, 67, 0.15);\n",
       "    fill: var(--button-hover-fill-color);\n",
       "  }\n",
       "\n",
       "  .colab-df-quickchart-complete:disabled,\n",
       "  .colab-df-quickchart-complete:disabled:hover {\n",
       "    background-color: var(--disabled-bg-color);\n",
       "    fill: var(--disabled-fill-color);\n",
       "    box-shadow: none;\n",
       "  }\n",
       "\n",
       "  .colab-df-spinner {\n",
       "    border: 2px solid var(--fill-color);\n",
       "    border-color: transparent;\n",
       "    border-bottom-color: var(--fill-color);\n",
       "    animation:\n",
       "      spin 1s steps(1) infinite;\n",
       "  }\n",
       "\n",
       "  @keyframes spin {\n",
       "    0% {\n",
       "      border-color: transparent;\n",
       "      border-bottom-color: var(--fill-color);\n",
       "      border-left-color: var(--fill-color);\n",
       "    }\n",
       "    20% {\n",
       "      border-color: transparent;\n",
       "      border-left-color: var(--fill-color);\n",
       "      border-top-color: var(--fill-color);\n",
       "    }\n",
       "    30% {\n",
       "      border-color: transparent;\n",
       "      border-left-color: var(--fill-color);\n",
       "      border-top-color: var(--fill-color);\n",
       "      border-right-color: var(--fill-color);\n",
       "    }\n",
       "    40% {\n",
       "      border-color: transparent;\n",
       "      border-right-color: var(--fill-color);\n",
       "      border-top-color: var(--fill-color);\n",
       "    }\n",
       "    60% {\n",
       "      border-color: transparent;\n",
       "      border-right-color: var(--fill-color);\n",
       "    }\n",
       "    80% {\n",
       "      border-color: transparent;\n",
       "      border-right-color: var(--fill-color);\n",
       "      border-bottom-color: var(--fill-color);\n",
       "    }\n",
       "    90% {\n",
       "      border-color: transparent;\n",
       "      border-bottom-color: var(--fill-color);\n",
       "    }\n",
       "  }\n",
       "</style>\n",
       "\n",
       "  <script>\n",
       "    async function quickchart(key) {\n",
       "      const quickchartButtonEl =\n",
       "        document.querySelector('#' + key + ' button');\n",
       "      quickchartButtonEl.disabled = true;  // To prevent multiple clicks.\n",
       "      quickchartButtonEl.classList.add('colab-df-spinner');\n",
       "      try {\n",
       "        const charts = await google.colab.kernel.invokeFunction(\n",
       "            'suggestCharts', [key], {});\n",
       "      } catch (error) {\n",
       "        console.error('Error during call to suggestCharts:', error);\n",
       "      }\n",
       "      quickchartButtonEl.classList.remove('colab-df-spinner');\n",
       "      quickchartButtonEl.classList.add('colab-df-quickchart-complete');\n",
       "    }\n",
       "    (() => {\n",
       "      let quickchartButtonEl =\n",
       "        document.querySelector('#df-cf438b7c-792d-4600-a1d1-f91370afb60e button');\n",
       "      quickchartButtonEl.style.display =\n",
       "        google.colab.kernel.accessAllowed ? 'block' : 'none';\n",
       "    })();\n",
       "  </script>\n",
       "</div>\n",
       "\n",
       "    </div>\n",
       "  </div>\n"
      ],
      "text/plain": [
       "col_0            0   1   2\n",
       "Gemini-1.5-Pro            \n",
       "0               41  62  79\n",
       "1               15  35  25\n",
       "2               31  85  53"
      ]
     },
     "metadata": {},
     "output_type": "display_data"
    }
   ],
   "source": [
    "display(pd.crosstab(df['Gemini-1.5-Pro'], cls))"
   ]
  },
  {
   "cell_type": "markdown",
   "metadata": {
    "id": "8XNH7u-jRV9-"
   },
   "source": [
    "#### PCA  "
   ]
  },
  {
   "cell_type": "code",
   "execution_count": 22,
   "metadata": {
    "colab": {
     "base_uri": "https://localhost:8080/"
    },
    "executionInfo": {
     "elapsed": 9,
     "status": "ok",
     "timestamp": 1736252698994,
     "user": {
      "displayName": "Haruto KAWABATA",
      "userId": "07629425452397739361"
     },
     "user_tz": -540
    },
    "id": "jUDL4la3RV9-",
    "outputId": "983bec44-607f-4f49-f083-b90c79eb79f2"
   },
   "outputs": [
    {
     "name": "stdout",
     "output_type": "stream",
     "text": [
      "CPU times: user 56.7 ms, sys: 22.7 ms, total: 79.4 ms\n",
      "Wall time: 91 ms\n"
     ]
    }
   ],
   "source": [
    "%%time\n",
    "\n",
    "pca = PCA(n_components=2)\n",
    "Y_pca = pca.fit_transform(vecs)"
   ]
  },
  {
   "cell_type": "markdown",
   "metadata": {
    "id": "shZtBVHf-eVP"
   },
   "source": [
    "#### Check contribution ratio  "
   ]
  },
  {
   "cell_type": "code",
   "execution_count": 23,
   "metadata": {
    "colab": {
     "base_uri": "https://localhost:8080/"
    },
    "executionInfo": {
     "elapsed": 7,
     "status": "ok",
     "timestamp": 1736252698994,
     "user": {
      "displayName": "Haruto KAWABATA",
      "userId": "07629425452397739361"
     },
     "user_tz": -540
    },
    "id": "aNp2oMqO-dlL",
    "outputId": "3b32b634-733c-4b38-ee0b-c293c9f80761"
   },
   "outputs": [
    {
     "name": "stdout",
     "output_type": "stream",
     "text": [
      "[0.06595892 0.05827098]\n",
      "[0.06595892 0.1242299 ]\n"
     ]
    }
   ],
   "source": [
    "print(pca.explained_variance_ratio_)\n",
    "print(np.cumsum(pca.explained_variance_ratio_))"
   ]
  },
  {
   "cell_type": "markdown",
   "metadata": {
    "id": "ogn1j4_pImkU"
   },
   "source": [
    "#### Plot of PCA colored by cluster ID"
   ]
  },
  {
   "cell_type": "code",
   "execution_count": 24,
   "metadata": {
    "colab": {
     "base_uri": "https://localhost:8080/",
     "height": 472
    },
    "executionInfo": {
     "elapsed": 1139,
     "status": "ok",
     "timestamp": 1736252700128,
     "user": {
      "displayName": "Haruto KAWABATA",
      "userId": "07629425452397739361"
     },
     "user_tz": -540
    },
    "id": "qF3th7eSRV9-",
    "outputId": "581a1e7a-cb0e-4216-ab4f-ddf1ee26d4ce"
   },
   "outputs": [
    {
     "data": {
      "image/png": "[encoded data removed]",
      "text/plain": [
       "<Figure size 640x480 with 1 Axes>"
      ]
     },
     "metadata": {},
     "output_type": "display_data"
    }
   ],
   "source": [
    "plt.title(\"PCA (colored by cluster ID)\")\n",
    "marker = '.'\n",
    "for i in range(n_cls):\n",
    "    y1 = Y_pca[ cls==i ]\n",
    "    plt.scatter(y1[:, 0], y1[:, 1], marker=marker, label=i)\n",
    "\n",
    "plt.xlabel('PCA1')\n",
    "plt.ylabel('PCA2')\n",
    "plt.legend()\n",
    "plt.show()"
   ]
  },
  {
   "cell_type": "code",
   "execution_count": 25,
   "metadata": {
    "colab": {
     "base_uri": "https://localhost:8080/",
     "height": 1000
    },
    "executionInfo": {
     "elapsed": 465,
     "status": "ok",
     "timestamp": 1736252700591,
     "user": {
      "displayName": "Haruto KAWABATA",
      "userId": "07629425452397739361"
     },
     "user_tz": -540
    },
    "id": "8gfIQ9eDq8BQ",
    "outputId": "3f894813-4dbe-491f-f937-bd81d2bb4db1"
   },
   "outputs": [
    {
     "data": {
      "image/png": "[encoded data removed]",
      "text/plain": [
       "<Figure size 640x480 with 1 Axes>"
      ]
     },
     "metadata": {},
     "output_type": "display_data"
    },
    {
     "name": "stdout",
     "output_type": "stream",
     "text": [
      "\n",
      "Cluster 0 - Texts near center (within distance 0.05):\n",
      "--------------------------------------------------------------------------------\n",
      "Distance 0.009: 寝室での仕事関連の書類整理\n",
      "Distance 0.018: 寝室でペットと過ごす\n",
      "Distance 0.019: 寝室を暗くする\n",
      "Distance 0.023: 室温が低すぎるまたは高すぎる状態で寝る\n",
      "Distance 0.029: 寝室に時計を置く\n",
      "Distance 0.032: 部屋を軽く香り付けして寝る\n",
      "Distance 0.039: 寝室でリラックス音楽を聴く\n",
      "Distance 0.041: 寝室での静かな音楽\n",
      "Distance 0.042: 寝室の明るさを調整せずに寝る\n",
      "Distance 0.047: 寝室での穏やかな瞑想\n",
      "\n",
      "Cluster 1 - Texts near center (within distance 0.05):\n",
      "--------------------------------------------------------------------------------\n",
      "Distance 0.011: ハーブティーを飲む\n",
      "Distance 0.017: マグネシウムを多く含むアーモンドなどのナッツ類を間食に取り入れる\n",
      "Distance 0.020: アルコールを摂取する\n",
      "Distance 0.021: 早朝の公園を少しだけジョギングする\n",
      "Distance 0.025: 明日の仕事のことを心配する\n",
      "Distance 0.036: 午前中にアウトドア活動をする\n",
      "Distance 0.038: ビデオゲームを長時間プレイする\n",
      "Distance 0.040: ビタミンDを摂取する\n",
      "Distance 0.041: 明日への楽しい計画を立てる\n",
      "Distance 0.041: 軽いエクササイズを昼間に取り入れる\n",
      "Distance 0.044: 明日のプレゼンテーションの不安で頭がいっぱいになる\n",
      "Distance 0.050: 明日の嫌な予定を考え込む\n",
      "\n",
      "Cluster 2 - Texts near center (within distance 0.05):\n",
      "--------------------------------------------------------------------------------\n",
      "Distance 0.006: 就寝前の1時間はデジタルデトックスを行いリラックスする時間を作る\n",
      "Distance 0.007: 寝る前にドラマの最終エピソードを一気に見る\n",
      "Distance 0.016: 就寝前の簡単な身支度\n",
      "Distance 0.021: 刺激的なテレビ番組を寝る直前に見る\n",
      "Distance 0.025: 寝る前にリラックスできるハーブティーを楽しむ\n",
      "Distance 0.031: 就寝前のセルフマッサージを行う\n",
      "Distance 0.031: 就寝前の簡単な家事\n",
      "Distance 0.033: 就寝前に温めたハーブティーで身体を温める\n",
      "Distance 0.033: 寝る前の長めのスマートフォン操作\n",
      "Distance 0.033: スマートフォンを寝る1時間前にはオフにする\n",
      "Distance 0.037: 寝る直前に軽く水分補給を行う\n",
      "Distance 0.039: 寝る直前に気になるニュースを少し読む\n",
      "Distance 0.040: 就寝前のストレッチで体をリラックスさせる\n",
      "Distance 0.041: 白湯を寝る前に一杯飲む\n",
      "Distance 0.042: 寝る直前までパソコンで作業する\n",
      "Distance 0.045: 就寝2時間前のストレッチ\n",
      "Distance 0.045: 就寝前の重要な会話\n",
      "Distance 0.046: 寝る前に温かいスープを飲む\n",
      "Distance 0.050: 就寝直前までSNSで会話する\n"
     ]
    }
   ],
   "source": [
    "def find_texts_near_center_pca(pca_coords, texts, labels, cluster_id, distance_threshold):\n",
    "    # Get points for the specified cluster\n",
    "    cluster_mask = labels == cluster_id\n",
    "    cluster_coords = pca_coords[cluster_mask]\n",
    "    cluster_texts = texts[cluster_mask]\n",
    "\n",
    "    # Find cluster center\n",
    "    center = np.mean(cluster_coords, axis=0)\n",
    "\n",
    "    # Calculate distances from center\n",
    "    distances = np.sqrt(np.sum((cluster_coords - center) ** 2, axis=1))\n",
    "\n",
    "    # Find points within threshold\n",
    "    nearby_mask = distances <= distance_threshold\n",
    "    nearby_texts = cluster_texts[nearby_mask]\n",
    "    nearby_distances = distances[nearby_mask]\n",
    "\n",
    "    # Sort by distance\n",
    "    sorted_indices = np.argsort(nearby_distances)\n",
    "    sorted_texts = nearby_texts[sorted_indices]\n",
    "    sorted_distances = nearby_distances[sorted_indices]\n",
    "\n",
    "    return sorted_texts, sorted_distances, center\n",
    "\n",
    "# Convert texts to numpy array for indexing\n",
    "texts_array = np.array(df['text'])\n",
    "\n",
    "# Plot PCA with cluster centers\n",
    "plt.title(\"PCA with Cluster Centers\")\n",
    "marker = '.'\n",
    "\n",
    "for i in range(n_cls):\n",
    "    y1 = Y_pca[cls==i]\n",
    "    plt.scatter(y1[:, 0], y1[:, 1], marker=marker, label=f'Cluster {i}')\n",
    "\n",
    "    # Find and plot cluster center\n",
    "    center = np.mean(y1, axis=0)\n",
    "    plt.scatter(center[0], center[1], marker='*', s=200,\n",
    "               c='red', label=f'Center {i}' if i==0 else \"\")\n",
    "\n",
    "plt.xlabel('PCA1')\n",
    "plt.ylabel('PCA2')\n",
    "plt.legend()\n",
    "plt.show()\n",
    "\n",
    "# Find nearby texts for each cluster\n",
    "# Note: You might need to adjust the distance threshold for PCA\n",
    "# as the scale might be different from t-SNE\n",
    "distance_threshold = 0.05  # Adjust this value based on your PCA scale\n",
    "\n",
    "for cluster_id in range(n_cls):\n",
    "    print(f\"\\nCluster {cluster_id} - Texts near center (within distance {distance_threshold}):\")\n",
    "    print(\"-\" * 80)\n",
    "\n",
    "    nearby_texts, distances, center = find_texts_near_center_pca(\n",
    "        Y_pca, texts_array, cls, cluster_id, distance_threshold\n",
    "    )\n",
    "\n",
    "    for text, dist in zip(nearby_texts, distances):\n",
    "        print(f\"Distance {dist:.3f}: {text}\")"
   ]
  },
  {
   "cell_type": "markdown",
   "metadata": {
    "id": "PlAuPe9hRV9-"
   },
   "source": [
    "#### Plot of PCA colored by target  "
   ]
  },
  {
   "cell_type": "code",
   "execution_count": 26,
   "metadata": {
    "colab": {
     "base_uri": "https://localhost:8080/",
     "height": 472
    },
    "executionInfo": {
     "elapsed": 419,
     "status": "ok",
     "timestamp": 1736252701007,
     "user": {
      "displayName": "Haruto KAWABATA",
      "userId": "07629425452397739361"
     },
     "user_tz": -540
    },
    "id": "zrU73vW-RV9_",
    "outputId": "f2677758-3a18-41c2-b756-d367f54ef84b"
   },
   "outputs": [
    {
     "data": {
      "image/png": "[encoded data removed]",
      "text/plain": [
       "<Figure size 640x480 with 1 Axes>"
      ]
     },
     "metadata": {},
     "output_type": "display_data"
    }
   ],
   "source": [
    "#plt.figure(figsize=(10,7))\n",
    "plt.title(\"PCA (colored by target)\")\n",
    "marker = '.'\n",
    "for i in range(n_cls):\n",
    "    y1 = Y_pca[ df['Gemini-1.5-Pro']==i ]\n",
    "    plt.scatter(y1[:, 0], y1[:, 1], marker=marker, label=i)\n",
    "\n",
    "plt.xlabel('PCA1')\n",
    "plt.ylabel('PCA2')\n",
    "plt.legend()\n",
    "plt.show()"
   ]
  },
  {
   "cell_type": "markdown",
   "metadata": {
    "id": "JrY9LS8WRV9_"
   },
   "source": [
    "#### t-SNE  "
   ]
  },
  {
   "cell_type": "code",
   "execution_count": 27,
   "metadata": {
    "colab": {
     "base_uri": "https://localhost:8080/"
    },
    "executionInfo": {
     "elapsed": 2817,
     "status": "ok",
     "timestamp": 1736252703820,
     "user": {
      "displayName": "Haruto KAWABATA",
      "userId": "07629425452397739361"
     },
     "user_tz": -540
    },
    "id": "EcaNg9MXRV9_",
    "outputId": "c4d5dc0d-39bb-4b6c-c5ac-65f483f321e3"
   },
   "outputs": [
    {
     "name": "stderr",
     "output_type": "stream",
     "text": [
      "/usr/local/lib/python3.10/dist-packages/sklearn/manifold/_t_sne.py:1164: FutureWarning: 'n_iter' was renamed to 'max_iter' in version 1.5 and will be removed in 1.7.\n",
      "  warnings.warn(\n"
     ]
    },
    {
     "name": "stdout",
     "output_type": "stream",
     "text": [
      "CPU times: user 2.34 s, sys: 52.7 ms, total: 2.4 s\n",
      "Wall time: 2.48 s\n"
     ]
    }
   ],
   "source": [
    "%%time\n",
    "\n",
    "Y_tsne = TSNE(n_components=2,\n",
    "              perplexity=30, n_iter=500,\n",
    "              random_state=0).fit_transform(vecs)"
   ]
  },
  {
   "cell_type": "markdown",
   "metadata": {},
   "source": [
    "#### Plot of t-SNE colored by cluster ID"
   ]
  },
  {
   "cell_type": "code",
   "execution_count": 28,
   "metadata": {
    "colab": {
     "base_uri": "https://localhost:8080/",
     "height": 472
    },
    "executionInfo": {
     "elapsed": 17,
     "status": "ok",
     "timestamp": 1736252703829,
     "user": {
      "displayName": "Haruto KAWABATA",
      "userId": "07629425452397739361"
     },
     "user_tz": -540
    },
    "id": "a6cFpqOYRV9_",
    "outputId": "88f451f1-4ac9-4776-f2e4-acc7eb9e5038"
   },
   "outputs": [
    {
     "data": {
      "image/png": "[encoded data removed]",
      "text/plain": [
       "<Figure size 640x480 with 1 Axes>"
      ]
     },
     "metadata": {},
     "output_type": "display_data"
    }
   ],
   "source": [
    "#plt.figure(figsize=(10,7))\n",
    "plt.title(\"t-SNE (colored by cluster ID)\")\n",
    "marker = '.'\n",
    "for i in range(n_cls):\n",
    "    y1 = Y_tsne[ cls==i ]\n",
    "    plt.scatter(y1[:, 0], y1[:, 1], marker=marker, label=i)\n",
    "\n",
    "plt.xlabel('t-SNE1')\n",
    "plt.ylabel('t-SNE2')\n",
    "plt.legend()\n",
    "plt.show()"
   ]
  },
  {
   "cell_type": "code",
   "execution_count": 29,
   "metadata": {
    "colab": {
     "base_uri": "https://localhost:8080/",
     "height": 1000
    },
    "executionInfo": {
     "elapsed": 754,
     "status": "ok",
     "timestamp": 1736252704568,
     "user": {
      "displayName": "Haruto KAWABATA",
      "userId": "07629425452397739361"
     },
     "user_tz": -540
    },
    "id": "_8xNCXvOqsAk",
    "outputId": "8384c7df-e09c-4e01-c5e2-49878b593fd5"
   },
   "outputs": [
    {
     "data": {
      "image/png": "[encoded data removed]",
      "text/plain": [
       "<Figure size 640x480 with 1 Axes>"
      ]
     },
     "metadata": {},
     "output_type": "display_data"
    },
    {
     "name": "stdout",
     "output_type": "stream",
     "text": [
      "\n",
      "Cluster 0 - Texts near center (within distance 5.0):\n",
      "--------------------------------------------------------------------------------\n",
      "Distance 1.01: リビングで少し寝てからベッドに移動する\n",
      "Distance 1.13: リビングで眠る\n",
      "Distance 2.07: クローゼットにある服を少し片付けてから寝る\n",
      "Distance 3.07: 部屋を整理整頓してから寝る\n",
      "Distance 3.41: 部屋を散らかしたまま睡眠に入る\n",
      "Distance 4.03: 寝室に時計を置く\n",
      "Distance 4.04: 外の騒音や光が気になって眠れない\n",
      "Distance 4.10: 部屋の時計が気になってしまい何度も確認してしまう\n",
      "Distance 4.13: 寝室での穏やかな会話\n",
      "Distance 4.39: 寝室での穏やかな瞑想\n",
      "Distance 4.69: 寝室で洗濯物を干す\n",
      "\n",
      "Cluster 1 - Texts near center (within distance 5.0):\n",
      "--------------------------------------------------------------------------------\n",
      "Distance 3.65: 夕方に長時間の昼寝をする\n",
      "Distance 4.11: リラックスできるバスタイムを楽しむ\n",
      "Distance 4.33: 瞑想アプリでリラックス\n",
      "\n",
      "Cluster 2 - Texts near center (within distance 5.0):\n",
      "--------------------------------------------------------------------------------\n",
      "Distance 0.66: 寝る直前までの勉強\n",
      "Distance 1.48: 寝る前に軽いジャーナリングをする\n",
      "Distance 1.96: 寝る前に心を穏やかにするアファメーションを唱える\n",
      "Distance 2.23: 寝る直前に強い運動をする\n",
      "Distance 2.25: 寝る前に軽い散歩をする\n",
      "Distance 2.44: 寝る前にチャンツやマントラを唱える\n",
      "Distance 2.77: 就寝前の短い散歩\n",
      "Distance 2.86: 寝る直前に激しい運動をする\n",
      "Distance 2.94: 寝る前に激しい運動をする\n",
      "Distance 3.06: 就寝前に重要な決定をする\n",
      "Distance 3.13: 就寝前の重要な決定事項の検討\n",
      "Distance 3.47: 寝る前の激しい運動\n",
      "Distance 3.48: 寝る直前まで激しい運動をして交感神経を優位にする\n",
      "Distance 3.70: 寝る前に軽い読書をする\n",
      "Distance 3.78: 寝る前の短時間の読書\n",
      "Distance 3.94: 寝る前に喧嘩をする\n",
      "Distance 3.99: 寝る前に心配事を考える\n",
      "Distance 4.06: 就寝前にストレスフルな作業をする\n",
      "Distance 4.06: 就寝前に激しいデバッグ作業をする\n",
      "Distance 4.08: 寝る前には1章だけ小説を読む\n",
      "Distance 4.11: 寝る前にストレスを増すようなプロジェクトを考える\n",
      "Distance 4.17: 寝る前に議論をする\n",
      "Distance 4.70: 寝る前に楽しいことを考える\n",
      "Distance 4.70: 寝る前に楽しいことを考える\n",
      "Distance 4.93: 就寝前に口論する\n"
     ]
    }
   ],
   "source": [
    "def find_texts_near_center(tsne_coords, texts, labels, cluster_id, distance_threshold):\n",
    "    # Get points for the specified cluster\n",
    "    cluster_mask = labels == cluster_id\n",
    "    cluster_coords = tsne_coords[cluster_mask]\n",
    "    cluster_texts = texts[cluster_mask]\n",
    "\n",
    "    # Find cluster center\n",
    "    center = np.mean(cluster_coords, axis=0)\n",
    "\n",
    "    # Calculate distances from center\n",
    "    distances = np.sqrt(np.sum((cluster_coords - center) ** 2, axis=1))\n",
    "\n",
    "    # Find points within threshold\n",
    "    nearby_mask = distances <= distance_threshold\n",
    "    nearby_texts = cluster_texts[nearby_mask]\n",
    "    nearby_distances = distances[nearby_mask]\n",
    "\n",
    "    # Sort by distance\n",
    "    sorted_indices = np.argsort(nearby_distances)\n",
    "    sorted_texts = nearby_texts[sorted_indices]\n",
    "    sorted_distances = nearby_distances[sorted_indices]\n",
    "\n",
    "    return sorted_texts, sorted_distances, center\n",
    "\n",
    "# Convert texts to numpy array for indexing\n",
    "texts_array = np.array(df['text'])\n",
    "\n",
    "# Plot t-SNE with cluster centers\n",
    "plt.title(\"t-SNE with Cluster Centers\")\n",
    "marker = '.'\n",
    "\n",
    "for i in range(n_cls):\n",
    "    y1 = Y_tsne[cls==i]\n",
    "    plt.scatter(y1[:, 0], y1[:, 1], marker=marker, label=f'Cluster {i}')\n",
    "\n",
    "    # Find and plot cluster center\n",
    "    center = np.mean(y1, axis=0)\n",
    "    plt.scatter(center[0], center[1], marker='*', s=200,\n",
    "               c='red', label=f'Center {i}' if i==0 else \"\")\n",
    "\n",
    "plt.xlabel('t-SNE1')\n",
    "plt.ylabel('t-SNE2')\n",
    "plt.legend()\n",
    "plt.show()\n",
    "\n",
    "# Find nearby texts for each cluster\n",
    "distance_threshold = 5.0  # Adjust this value to control the radius\n",
    "\n",
    "for cluster_id in range(n_cls):\n",
    "    print(f\"\\nCluster {cluster_id} - Texts near center (within distance {distance_threshold}):\")\n",
    "    print(\"-\" * 80)\n",
    "\n",
    "    nearby_texts, distances, center = find_texts_near_center(\n",
    "        Y_tsne, texts_array, cls, cluster_id, distance_threshold\n",
    "    )\n",
    "\n",
    "    for text, dist in zip(nearby_texts, distances):\n",
    "        print(f\"Distance {dist:.2f}: {text}\")"
   ]
  },
  {
   "cell_type": "markdown",
   "metadata": {
    "id": "PwaJDxMeRV9_"
   },
   "source": [
    "#### Plot of t-SNE colored by target  "
   ]
  },
  {
   "cell_type": "code",
   "execution_count": 30,
   "metadata": {
    "colab": {
     "base_uri": "https://localhost:8080/",
     "height": 472
    },
    "executionInfo": {
     "elapsed": 12,
     "status": "ok",
     "timestamp": 1736252704568,
     "user": {
      "displayName": "Haruto KAWABATA",
      "userId": "07629425452397739361"
     },
     "user_tz": -540
    },
    "id": "8FBN9JYbRV9_",
    "outputId": "a9a33662-90d0-45c0-d35b-99df16a18a76",
    "scrolled": true
   },
   "outputs": [
    {
     "data": {
      "image/png": "[encoded data removed]",
      "text/plain": [
       "<Figure size 640x480 with 1 Axes>"
      ]
     },
     "metadata": {},
     "output_type": "display_data"
    }
   ],
   "source": [
    "#plt.figure(figsize=(10,7))\n",
    "plt.title(\"t-SNE (colord by target)\")\n",
    "marker = '.'\n",
    "for i in range(n_cls):\n",
    "    y1 = Y_tsne[ df['Gemini-1.5-Pro']==i ]\n",
    "    plt.scatter(y1[:, 0], y1[:, 1], marker=marker, label=i)\n",
    "\n",
    "plt.xlabel('t-SNE1')\n",
    "plt.ylabel('t-SNE2')\n",
    "plt.legend()\n",
    "plt.show()"
   ]
  },
  {
   "cell_type": "code",
   "execution_count": 32,
   "metadata": {
    "executionInfo": {
     "elapsed": 11,
     "status": "ok",
     "timestamp": 1736252704570,
     "user": {
      "displayName": "Haruto KAWABATA",
      "userId": "07629425452397739361"
     },
     "user_tz": -540
    },
    "id": "RkHCk_erIC0b"
   },
   "outputs": [],
   "source": []
  }
 ],
 "metadata": {
  "colab": {
   "provenance": []
  },
  "kernelspec": {
   "display_name": "Python 3 (ipykernel)",
   "language": "python",
   "name": "python3"
  },
  "language_info": {
   "codemirror_mode": {
    "name": "ipython",
    "version": 3
   },
   "file_extension": ".py",
   "mimetype": "text/x-python",
   "name": "python",
   "nbconvert_exporter": "python",
   "pygments_lexer": "ipython3",
   "version": "3.9.15"
  }
 },
 "nbformat": 4,
 "nbformat_minor": 4
}
