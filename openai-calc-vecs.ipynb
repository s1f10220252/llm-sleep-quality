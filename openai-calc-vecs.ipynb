{
 "cells": [
  {
   "cell_type": "markdown",
   "metadata": {
    "id": "776hoitZRV93"
   },
   "source": [
    "### Calculation of distributed representation vectors using OpenAI Text Embedding"
   ]
  },
  {
   "cell_type": "code",
   "execution_count": 1,
   "metadata": {
    "colab": {
     "base_uri": "https://localhost:8080/"
    },
    "executionInfo": {
     "elapsed": 13467,
     "status": "ok",
     "timestamp": 1738025655056,
     "user": {
      "displayName": "Haruto KAWABATA",
      "userId": "07629425452397739361"
     },
     "user_tz": -540
    },
    "id": "oTo14URhZjaL",
    "outputId": "9e78e911-0641-49e8-8fd3-d825f8a9ec4c"
   },
   "outputs": [
    {
     "name": "stdout",
     "output_type": "stream",
     "text": [
      "Collecting httpx<0.28\n",
      "  Downloading httpx-0.27.2-py3-none-any.whl.metadata (7.1 kB)\n",
      "Requirement already satisfied: anyio in /usr/local/lib/python3.11/dist-packages (from httpx<0.28) (3.7.1)\n",
      "Requirement already satisfied: certifi in /usr/local/lib/python3.11/dist-packages (from httpx<0.28) (2024.12.14)\n",
      "Requirement already satisfied: httpcore==1.* in /usr/local/lib/python3.11/dist-packages (from httpx<0.28) (1.0.7)\n",
      "Requirement already satisfied: idna in /usr/local/lib/python3.11/dist-packages (from httpx<0.28) (3.10)\n",
      "Requirement already satisfied: sniffio in /usr/local/lib/python3.11/dist-packages (from httpx<0.28) (1.3.1)\n",
      "Requirement already satisfied: h11<0.15,>=0.13 in /usr/local/lib/python3.11/dist-packages (from httpcore==1.*->httpx<0.28) (0.14.0)\n",
      "Downloading httpx-0.27.2-py3-none-any.whl (76 kB)\n",
      "\u001b[2K   \u001b[90m━━━━━━━━━━━━━━━━━━━━━━━━━━━━━━━━━━━━━━━━\u001b[0m \u001b[32m76.4/76.4 kB\u001b[0m \u001b[31m3.5 MB/s\u001b[0m eta \u001b[36m0:00:00\u001b[0m\n",
      "\u001b[?25hInstalling collected packages: httpx\n",
      "  Attempting uninstall: httpx\n",
      "    Found existing installation: httpx 0.28.1\n",
      "    Uninstalling httpx-0.28.1:\n",
      "      Successfully uninstalled httpx-0.28.1\n",
      "Successfully installed httpx-0.27.2\n"
     ]
    }
   ],
   "source": [
    "!pip install --upgrade \"httpx<0.28\""
   ]
  },
  {
   "cell_type": "markdown",
   "metadata": {
    "id": "vzP6EJzwRV95"
   },
   "source": [
    "#### Import libraries  "
   ]
  },
  {
   "cell_type": "code",
   "execution_count": 13,
   "metadata": {
    "executionInfo": {
     "elapsed": 4913,
     "status": "ok",
     "timestamp": 1738027178714,
     "user": {
      "displayName": "Haruto KAWABATA",
      "userId": "07629425452397739361"
     },
     "user_tz": -540
    },
    "id": "4hYJhIV_RV96"
   },
   "outputs": [],
   "source": [
    "import numpy as np\n",
    "import pandas as pd\n",
    "import openai\n",
    "from sklearn.metrics.pairwise import cosine_similarity"
   ]
  },
  {
   "cell_type": "code",
   "execution_count": 3,
   "metadata": {
    "executionInfo": {
     "elapsed": 12,
     "status": "ok",
     "timestamp": 1738025660898,
     "user": {
      "displayName": "Haruto KAWABATA",
      "userId": "07629425452397739361"
     },
     "user_tz": -540
    },
    "id": "5DRw5zkVZjaO"
   },
   "outputs": [],
   "source": [
    "# INIAD\n",
    "API_KEY_INIAD = ''\n",
    "BASE_URL_INIAD = 'https://api.openai.iniad.org/api/v1'\n",
    "\n",
    "API_KEY = API_KEY_INIAD\n",
    "BASE_URL = BASE_URL_INIAD\n",
    "\n",
    "# https://platform.openai.com/docs/guides/embeddings/what-are-embeddings?lang=node\n",
    "MODEL = 'text-embedding-3-small'  # max: 8191 tokens\n",
    "# MODEL = 'text-embedding-3-large'  # max: 8191 tokens\n",
    "# max_input_len = 20000  # 1 token is said to be about 3..4 characters in English\n",
    "# max_input_len2 = 8000"
   ]
  },
  {
   "cell_type": "code",
   "execution_count": 4,
   "metadata": {
    "executionInfo": {
     "elapsed": 11,
     "status": "ok",
     "timestamp": 1738025660898,
     "user": {
      "displayName": "Haruto KAWABATA",
      "userId": "07629425452397739361"
     },
     "user_tz": -540
    },
    "id": "KVlt7ZfFZjaP"
   },
   "outputs": [],
   "source": [
    "client = openai.OpenAI(\n",
    "    api_key = API_KEY,\n",
    "    base_url = BASE_URL,\n",
    ")"
   ]
  },
  {
   "cell_type": "code",
   "execution_count": 5,
   "metadata": {
    "executionInfo": {
     "elapsed": 11,
     "status": "ok",
     "timestamp": 1738025660899,
     "user": {
      "displayName": "Haruto KAWABATA",
      "userId": "07629425452397739361"
     },
     "user_tz": -540
    },
    "id": "X4FvS8QmZjaQ"
   },
   "outputs": [],
   "source": [
    "def get_embedding(text, model=MODEL):\n",
    "    text = text.replace('\\n', ' ')\n",
    "    return client.embeddings.create(input=text, model=model).data[0].embedding"
   ]
  },
  {
   "cell_type": "markdown",
   "metadata": {
    "id": "HiXJsIoqRgcr"
   },
   "source": [
    "#### Setup working directory"
   ]
  },
  {
   "cell_type": "code",
   "execution_count": 6,
   "metadata": {
    "colab": {
     "base_uri": "https://localhost:8080/"
    },
    "executionInfo": {
     "elapsed": 34515,
     "status": "ok",
     "timestamp": 1738025695404,
     "user": {
      "displayName": "Haruto KAWABATA",
      "userId": "07629425452397739361"
     },
     "user_tz": -540
    },
    "id": "ZX1982UmRgxg",
    "outputId": "a9ef054a-7119-40ab-aa06-faa12a14c132"
   },
   "outputs": [
    {
     "name": "stdout",
     "output_type": "stream",
     "text": [
      "Mounted at /content/drive\n",
      "/content/drive/MyDrive/Documents/ds2024/dsF1\n"
     ]
    }
   ],
   "source": [
    "from google.colab import drive\n",
    "drive.mount('/content/drive')\n",
    "%cd /content/drive/MyDrive/Documents/ds2024/dsF1/"
   ]
  },
  {
   "cell_type": "markdown",
   "metadata": {
    "id": "9VF77D4IRV97"
   },
   "source": [
    "#### Parameters  "
   ]
  },
  {
   "cell_type": "code",
   "execution_count": 7,
   "metadata": {
    "executionInfo": {
     "elapsed": 7,
     "status": "ok",
     "timestamp": 1738025695404,
     "user": {
      "displayName": "Haruto KAWABATA",
      "userId": "07629425452397739361"
     },
     "user_tz": -540
    },
    "id": "2LdC-oNDRV97"
   },
   "outputs": [],
   "source": [
    "csv_in = 'sleep-text-score.csv'\n",
    "vecs_out = 'vecs_sleep_by_openai.npy'\n",
    "min_words = 0"
   ]
  },
  {
   "cell_type": "markdown",
   "metadata": {
    "id": "JFppuPgGRV97"
   },
   "source": [
    "#### Read CSV file  "
   ]
  },
  {
   "cell_type": "code",
   "execution_count": 8,
   "metadata": {
    "colab": {
     "base_uri": "https://localhost:8080/",
     "height": 432
    },
    "executionInfo": {
     "elapsed": 1242,
     "status": "ok",
     "timestamp": 1738025696639,
     "user": {
      "displayName": "Haruto KAWABATA",
      "userId": "07629425452397739361"
     },
     "user_tz": -540
    },
    "id": "pDQ14CkcRV97",
    "outputId": "e29b83ee-9c8d-487a-af87-556ce5b4dac4"
   },
   "outputs": [
    {
     "name": "stdout",
     "output_type": "stream",
     "text": [
      "(426, 4)\n",
      "<class 'pandas.core.frame.DataFrame'>\n",
      "RangeIndex: 426 entries, 0 to 425\n",
      "Data columns (total 4 columns):\n",
      " #   Column             Non-Null Count  Dtype \n",
      "---  ------             --------------  ----- \n",
      " 0   text               426 non-null    object\n",
      " 1   GPT-4o             426 non-null    int64 \n",
      " 2   Gemini-1.5-Pro     426 non-null    int64 \n",
      " 3   Claude-3.5-Sonnet  426 non-null    int64 \n",
      "dtypes: int64(3), object(1)\n",
      "memory usage: 13.4+ KB\n",
      "None\n"
     ]
    },
    {
     "data": {
      "application/vnd.google.colaboratory.intrinsic+json": {
       "summary": "{\n  \"name\": \"display(df\",\n  \"rows\": 5,\n  \"fields\": [\n    {\n      \"column\": \"text\",\n      \"properties\": {\n        \"dtype\": \"string\",\n        \"num_unique_values\": 5,\n        \"samples\": [\n          \"\\u671d\\u65e5\\u3092\\u7a4d\\u6975\\u7684\\u306b\\u6d74\\u3073\\u308b\",\n          \"\\u5bdd\\u5177\\u306f\\u5b9a\\u671f\\u7684\\u306b\\u6e05\\u6f54\\u306b\\u4fdd\\u3064\",\n          \"\\u5bdd\\u5ba4\\u306e\\u6e29\\u5ea6\\u309218-22\\u5ea6\\u306b\\u4fdd\\u3064\"\n        ],\n        \"semantic_type\": \"\",\n        \"description\": \"\"\n      }\n    },\n    {\n      \"column\": \"GPT-4o\",\n      \"properties\": {\n        \"dtype\": \"number\",\n        \"std\": 0,\n        \"min\": 2,\n        \"max\": 2,\n        \"num_unique_values\": 1,\n        \"samples\": [\n          2\n        ],\n        \"semantic_type\": \"\",\n        \"description\": \"\"\n      }\n    },\n    {\n      \"column\": \"Gemini-1.5-Pro\",\n      \"properties\": {\n        \"dtype\": \"number\",\n        \"std\": 0,\n        \"min\": 2,\n        \"max\": 2,\n        \"num_unique_values\": 1,\n        \"samples\": [\n          2\n        ],\n        \"semantic_type\": \"\",\n        \"description\": \"\"\n      }\n    },\n    {\n      \"column\": \"Claude-3.5-Sonnet\",\n      \"properties\": {\n        \"dtype\": \"number\",\n        \"std\": 0,\n        \"min\": 2,\n        \"max\": 2,\n        \"num_unique_values\": 1,\n        \"samples\": [\n          2\n        ],\n        \"semantic_type\": \"\",\n        \"description\": \"\"\n      }\n    }\n  ]\n}",
       "type": "dataframe"
      },
      "text/html": [
       "\n",
       "  <div id=\"df-596bcd29-f604-4ae9-95e7-b30fe159f66e\" class=\"colab-df-container\">\n",
       "    <div>\n",
       "<style scoped>\n",
       "    .dataframe tbody tr th:only-of-type {\n",
       "        vertical-align: middle;\n",
       "    }\n",
       "\n",
       "    .dataframe tbody tr th {\n",
       "        vertical-align: top;\n",
       "    }\n",
       "\n",
       "    .dataframe thead th {\n",
       "        text-align: right;\n",
       "    }\n",
       "</style>\n",
       "<table border=\"1\" class=\"dataframe\">\n",
       "  <thead>\n",
       "    <tr style=\"text-align: right;\">\n",
       "      <th></th>\n",
       "      <th>text</th>\n",
       "      <th>GPT-4o</th>\n",
       "      <th>Gemini-1.5-Pro</th>\n",
       "      <th>Claude-3.5-Sonnet</th>\n",
       "    </tr>\n",
       "  </thead>\n",
       "  <tbody>\n",
       "    <tr>\n",
       "      <th>0</th>\n",
       "      <td>就寝時間を毎日一定にする</td>\n",
       "      <td>2</td>\n",
       "      <td>2</td>\n",
       "      <td>2</td>\n",
       "    </tr>\n",
       "    <tr>\n",
       "      <th>1</th>\n",
       "      <td>朝日を積極的に浴びる</td>\n",
       "      <td>2</td>\n",
       "      <td>2</td>\n",
       "      <td>2</td>\n",
       "    </tr>\n",
       "    <tr>\n",
       "      <th>2</th>\n",
       "      <td>寝室の温度を18-22度に保つ</td>\n",
       "      <td>2</td>\n",
       "      <td>2</td>\n",
       "      <td>2</td>\n",
       "    </tr>\n",
       "    <tr>\n",
       "      <th>3</th>\n",
       "      <td>就寝前のストレッチで体をリラックスさせる</td>\n",
       "      <td>2</td>\n",
       "      <td>2</td>\n",
       "      <td>2</td>\n",
       "    </tr>\n",
       "    <tr>\n",
       "      <th>4</th>\n",
       "      <td>寝具は定期的に清潔に保つ</td>\n",
       "      <td>2</td>\n",
       "      <td>2</td>\n",
       "      <td>2</td>\n",
       "    </tr>\n",
       "  </tbody>\n",
       "</table>\n",
       "</div>\n",
       "    <div class=\"colab-df-buttons\">\n",
       "\n",
       "  <div class=\"colab-df-container\">\n",
       "    <button class=\"colab-df-convert\" onclick=\"convertToInteractive('df-596bcd29-f604-4ae9-95e7-b30fe159f66e')\"\n",
       "            title=\"Convert this dataframe to an interactive table.\"\n",
       "            style=\"display:none;\">\n",
       "\n",
       "  <svg xmlns=\"http://www.w3.org/2000/svg\" height=\"24px\" viewBox=\"0 -960 960 960\">\n",
       "    <path d=\"M120-120v-720h720v720H120Zm60-500h600v-160H180v160Zm220 220h160v-160H400v160Zm0 220h160v-160H400v160ZM180-400h160v-160H180v160Zm440 0h160v-160H620v160ZM180-180h160v-160H180v160Zm440 0h160v-160H620v160Z\"/>\n",
       "  </svg>\n",
       "    </button>\n",
       "\n",
       "  <style>\n",
       "    .colab-df-container {\n",
       "      display:flex;\n",
       "      gap: 12px;\n",
       "    }\n",
       "\n",
       "    .colab-df-convert {\n",
       "      background-color: #E8F0FE;\n",
       "      border: none;\n",
       "      border-radius: 50%;\n",
       "      cursor: pointer;\n",
       "      display: none;\n",
       "      fill: #1967D2;\n",
       "      height: 32px;\n",
       "      padding: 0 0 0 0;\n",
       "      width: 32px;\n",
       "    }\n",
       "\n",
       "    .colab-df-convert:hover {\n",
       "      background-color: #E2EBFA;\n",
       "      box-shadow: 0px 1px 2px rgba(60, 64, 67, 0.3), 0px 1px 3px 1px rgba(60, 64, 67, 0.15);\n",
       "      fill: #174EA6;\n",
       "    }\n",
       "\n",
       "    .colab-df-buttons div {\n",
       "      margin-bottom: 4px;\n",
       "    }\n",
       "\n",
       "    [theme=dark] .colab-df-convert {\n",
       "      background-color: #3B4455;\n",
       "      fill: #D2E3FC;\n",
       "    }\n",
       "\n",
       "    [theme=dark] .colab-df-convert:hover {\n",
       "      background-color: #434B5C;\n",
       "      box-shadow: 0px 1px 3px 1px rgba(0, 0, 0, 0.15);\n",
       "      filter: drop-shadow(0px 1px 2px rgba(0, 0, 0, 0.3));\n",
       "      fill: #FFFFFF;\n",
       "    }\n",
       "  </style>\n",
       "\n",
       "    <script>\n",
       "      const buttonEl =\n",
       "        document.querySelector('#df-596bcd29-f604-4ae9-95e7-b30fe159f66e button.colab-df-convert');\n",
       "      buttonEl.style.display =\n",
       "        google.colab.kernel.accessAllowed ? 'block' : 'none';\n",
       "\n",
       "      async function convertToInteractive(key) {\n",
       "        const element = document.querySelector('#df-596bcd29-f604-4ae9-95e7-b30fe159f66e');\n",
       "        const dataTable =\n",
       "          await google.colab.kernel.invokeFunction('convertToInteractive',\n",
       "                                                    [key], {});\n",
       "        if (!dataTable) return;\n",
       "\n",
       "        const docLinkHtml = 'Like what you see? Visit the ' +\n",
       "          '<a target=\"_blank\" href=https://colab.research.google.com/notebooks/data_table.ipynb>data table notebook</a>'\n",
       "          + ' to learn more about interactive tables.';\n",
       "        element.innerHTML = '';\n",
       "        dataTable['output_type'] = 'display_data';\n",
       "        await google.colab.output.renderOutput(dataTable, element);\n",
       "        const docLink = document.createElement('div');\n",
       "        docLink.innerHTML = docLinkHtml;\n",
       "        element.appendChild(docLink);\n",
       "      }\n",
       "    </script>\n",
       "  </div>\n",
       "\n",
       "\n",
       "<div id=\"df-2bbc1b43-f238-430e-b91d-1326910b701a\">\n",
       "  <button class=\"colab-df-quickchart\" onclick=\"quickchart('df-2bbc1b43-f238-430e-b91d-1326910b701a')\"\n",
       "            title=\"Suggest charts\"\n",
       "            style=\"display:none;\">\n",
       "\n",
       "<svg xmlns=\"http://www.w3.org/2000/svg\" height=\"24px\"viewBox=\"0 0 24 24\"\n",
       "     width=\"24px\">\n",
       "    <g>\n",
       "        <path d=\"M19 3H5c-1.1 0-2 .9-2 2v14c0 1.1.9 2 2 2h14c1.1 0 2-.9 2-2V5c0-1.1-.9-2-2-2zM9 17H7v-7h2v7zm4 0h-2V7h2v10zm4 0h-2v-4h2v4z\"/>\n",
       "    </g>\n",
       "</svg>\n",
       "  </button>\n",
       "\n",
       "<style>\n",
       "  .colab-df-quickchart {\n",
       "      --bg-color: #E8F0FE;\n",
       "      --fill-color: #1967D2;\n",
       "      --hover-bg-color: #E2EBFA;\n",
       "      --hover-fill-color: #174EA6;\n",
       "      --disabled-fill-color: #AAA;\n",
       "      --disabled-bg-color: #DDD;\n",
       "  }\n",
       "\n",
       "  [theme=dark] .colab-df-quickchart {\n",
       "      --bg-color: #3B4455;\n",
       "      --fill-color: #D2E3FC;\n",
       "      --hover-bg-color: #434B5C;\n",
       "      --hover-fill-color: #FFFFFF;\n",
       "      --disabled-bg-color: #3B4455;\n",
       "      --disabled-fill-color: #666;\n",
       "  }\n",
       "\n",
       "  .colab-df-quickchart {\n",
       "    background-color: var(--bg-color);\n",
       "    border: none;\n",
       "    border-radius: 50%;\n",
       "    cursor: pointer;\n",
       "    display: none;\n",
       "    fill: var(--fill-color);\n",
       "    height: 32px;\n",
       "    padding: 0;\n",
       "    width: 32px;\n",
       "  }\n",
       "\n",
       "  .colab-df-quickchart:hover {\n",
       "    background-color: var(--hover-bg-color);\n",
       "    box-shadow: 0 1px 2px rgba(60, 64, 67, 0.3), 0 1px 3px 1px rgba(60, 64, 67, 0.15);\n",
       "    fill: var(--button-hover-fill-color);\n",
       "  }\n",
       "\n",
       "  .colab-df-quickchart-complete:disabled,\n",
       "  .colab-df-quickchart-complete:disabled:hover {\n",
       "    background-color: var(--disabled-bg-color);\n",
       "    fill: var(--disabled-fill-color);\n",
       "    box-shadow: none;\n",
       "  }\n",
       "\n",
       "  .colab-df-spinner {\n",
       "    border: 2px solid var(--fill-color);\n",
       "    border-color: transparent;\n",
       "    border-bottom-color: var(--fill-color);\n",
       "    animation:\n",
       "      spin 1s steps(1) infinite;\n",
       "  }\n",
       "\n",
       "  @keyframes spin {\n",
       "    0% {\n",
       "      border-color: transparent;\n",
       "      border-bottom-color: var(--fill-color);\n",
       "      border-left-color: var(--fill-color);\n",
       "    }\n",
       "    20% {\n",
       "      border-color: transparent;\n",
       "      border-left-color: var(--fill-color);\n",
       "      border-top-color: var(--fill-color);\n",
       "    }\n",
       "    30% {\n",
       "      border-color: transparent;\n",
       "      border-left-color: var(--fill-color);\n",
       "      border-top-color: var(--fill-color);\n",
       "      border-right-color: var(--fill-color);\n",
       "    }\n",
       "    40% {\n",
       "      border-color: transparent;\n",
       "      border-right-color: var(--fill-color);\n",
       "      border-top-color: var(--fill-color);\n",
       "    }\n",
       "    60% {\n",
       "      border-color: transparent;\n",
       "      border-right-color: var(--fill-color);\n",
       "    }\n",
       "    80% {\n",
       "      border-color: transparent;\n",
       "      border-right-color: var(--fill-color);\n",
       "      border-bottom-color: var(--fill-color);\n",
       "    }\n",
       "    90% {\n",
       "      border-color: transparent;\n",
       "      border-bottom-color: var(--fill-color);\n",
       "    }\n",
       "  }\n",
       "</style>\n",
       "\n",
       "  <script>\n",
       "    async function quickchart(key) {\n",
       "      const quickchartButtonEl =\n",
       "        document.querySelector('#' + key + ' button');\n",
       "      quickchartButtonEl.disabled = true;  // To prevent multiple clicks.\n",
       "      quickchartButtonEl.classList.add('colab-df-spinner');\n",
       "      try {\n",
       "        const charts = await google.colab.kernel.invokeFunction(\n",
       "            'suggestCharts', [key], {});\n",
       "      } catch (error) {\n",
       "        console.error('Error during call to suggestCharts:', error);\n",
       "      }\n",
       "      quickchartButtonEl.classList.remove('colab-df-spinner');\n",
       "      quickchartButtonEl.classList.add('colab-df-quickchart-complete');\n",
       "    }\n",
       "    (() => {\n",
       "      let quickchartButtonEl =\n",
       "        document.querySelector('#df-2bbc1b43-f238-430e-b91d-1326910b701a button');\n",
       "      quickchartButtonEl.style.display =\n",
       "        google.colab.kernel.accessAllowed ? 'block' : 'none';\n",
       "    })();\n",
       "  </script>\n",
       "</div>\n",
       "\n",
       "    </div>\n",
       "  </div>\n"
      ],
      "text/plain": [
       "                   text  GPT-4o  Gemini-1.5-Pro  Claude-3.5-Sonnet\n",
       "0          就寝時間を毎日一定にする       2               2                  2\n",
       "1            朝日を積極的に浴びる       2               2                  2\n",
       "2       寝室の温度を18-22度に保つ       2               2                  2\n",
       "3  就寝前のストレッチで体をリラックスさせる       2               2                  2\n",
       "4          寝具は定期的に清潔に保つ       2               2                  2"
      ]
     },
     "metadata": {},
     "output_type": "display_data"
    }
   ],
   "source": [
    "df = pd.read_csv(csv_in, sep=',', skiprows=0, header=0, encoding='shift-jis')\n",
    "print(df.shape)\n",
    "print(df.info())\n",
    "display(df.head())"
   ]
  },
  {
   "cell_type": "markdown",
   "metadata": {
    "id": "bmy_T47hRV98"
   },
   "source": [
    "#### Check the number of documents in each category  "
   ]
  },
  {
   "cell_type": "code",
   "execution_count": 9,
   "metadata": {
    "colab": {
     "base_uri": "https://localhost:8080/"
    },
    "executionInfo": {
     "elapsed": 16,
     "status": "ok",
     "timestamp": 1738025696640,
     "user": {
      "displayName": "Haruto KAWABATA",
      "userId": "07629425452397739361"
     },
     "user_tz": -540
    },
    "id": "Hq6SsZO7RV99",
    "outputId": "eb1c7b09-5c9d-4420-f65f-5ad7548ff9e4"
   },
   "outputs": [
    {
     "name": "stdout",
     "output_type": "stream",
     "text": [
      "GPT-4o\n",
      "0    164\n",
      "1     61\n",
      "2    201\n",
      "Name: count, dtype: int64\n",
      "Gemini-1.5-Pro\n",
      "0    182\n",
      "1     75\n",
      "2    169\n",
      "Name: count, dtype: int64\n",
      "Claude-3.5-Sonnet\n",
      "0    184\n",
      "1     81\n",
      "2    161\n",
      "Name: count, dtype: int64\n"
     ]
    }
   ],
   "source": [
    "print(df['GPT-4o'].value_counts().sort_index(ascending=True))\n",
    "print(df['Gemini-1.5-Pro'].value_counts().sort_index(ascending=True))\n",
    "print(df['Claude-3.5-Sonnet'].value_counts().sort_index(ascending=True))"
   ]
  },
  {
   "cell_type": "markdown",
   "metadata": {
    "id": "ZwEDzkMGRV99"
   },
   "source": [
    "#### Calculation of Embedding  "
   ]
  },
  {
   "cell_type": "code",
   "execution_count": 10,
   "metadata": {
    "colab": {
     "base_uri": "https://localhost:8080/"
    },
    "executionInfo": {
     "elapsed": 17991,
     "status": "ok",
     "timestamp": 1738026555093,
     "user": {
      "displayName": "Haruto KAWABATA",
      "userId": "07629425452397739361"
     },
     "user_tz": -540
    },
    "id": "ouvJe0N0Bqtp",
    "outputId": "cb4ff22b-74ab-406c-e3dc-ec5741d8f229"
   },
   "outputs": [
    {
     "name": "stdout",
     "output_type": "stream",
     "text": [
      "CPU times: user 5.79 s, sys: 730 ms, total: 6.52 s\n",
      "Wall time: 14min 18s\n"
     ]
    }
   ],
   "source": [
    "%%time\n",
    "from time import sleep\n",
    "\n",
    "vecs = []\n",
    "for i in range(df.shape[0]):\n",
    "    txt = df.at[i, 'text']\n",
    "    # try:\n",
    "    #     vec = get_embedding(txt[:max_input_len])\n",
    "    # except:\n",
    "    #     vec = get_embedding(txt[:max_input_len2])\n",
    "    vec = get_embedding(txt)\n",
    "    vecs.append(np.array(vec))\n",
    "    sleep(1.5)\n",
    "vecs = np.array(vecs)"
   ]
  },
  {
   "cell_type": "code",
   "execution_count": 11,
   "metadata": {
    "colab": {
     "base_uri": "https://localhost:8080/"
    },
    "executionInfo": {
     "elapsed": 0,
     "status": "ok",
     "timestamp": 1738026555108,
     "user": {
      "displayName": "Haruto KAWABATA",
      "userId": "07629425452397739361"
     },
     "user_tz": -540
    },
    "id": "rLFoJ9Bd-ZAw",
    "outputId": "4f9b605a-5a3a-4ab6-a368-12d10c701559"
   },
   "outputs": [
    {
     "metadata": {
      "tags": null
     },
     "name": "stdout",
     "output_type": "stream",
     "text": [
      "(426, 1536)\n"
     ]
    }
   ],
   "source": [
    "print(vecs.shape)"
   ]
  },
  {
   "cell_type": "markdown",
   "metadata": {
    "id": "px97Ux8hfqI5"
   },
   "source": [
    "#### Typical text for each label"
   ]
  },
  {
   "cell_type": "code",
   "execution_count": 14,
   "metadata": {
    "colab": {
     "base_uri": "https://localhost:8080/"
    },
    "executionInfo": {
     "elapsed": 322,
     "status": "ok",
     "timestamp": 1738027225732,
     "user": {
      "displayName": "Haruto KAWABATA",
      "userId": "07629425452397739361"
     },
     "user_tz": -540
    },
    "id": "P0nqg_YlfrXS",
    "outputId": "a7e09153-3936-4bed-c4d1-71dba46670d2"
   },
   "outputs": [
    {
     "name": "stdout",
     "output_type": "stream",
     "text": [
      "\n",
      "Top 10 typical texts for Label 0:\n",
      "--------------------------------------------------\n",
      "1. 寝る直前までの勉強 (Score: 0.473)\n",
      "2. 就寝前にストレスフルな作業をする (Score: 0.472)\n",
      "3. 昼寝を長時間とる (Score: 0.470)\n",
      "4. 昼寝を長時間する (Score: 0.468)\n",
      "5. 就寝前に激しいデバッグ作業をする (Score: 0.465)\n",
      "6. 寝る前に心配事を考える (Score: 0.461)\n",
      "7. 寝る前に激しい運動をする (Score: 0.458)\n",
      "8. 寝る直前に強い運動をする (Score: 0.458)\n",
      "9. 寝る直前に激しい運動をする (Score: 0.455)\n",
      "10. 寝る前に緊張するようなテレビを見る (Score: 0.450)\n",
      "\n",
      "Top 10 typical texts for Label 1:\n",
      "--------------------------------------------------\n",
      "1. 就寝前の短時間のテレビ視聴 (Score: 0.506)\n",
      "2. 就寝前に軽いテレビ番組を見る (Score: 0.495)\n",
      "3. 就寝前の短い通話 (Score: 0.478)\n",
      "4. 寝る前に短い電話をする (Score: 0.478)\n",
      "5. 夜寝る前にスマホを30分程度だけ見る (Score: 0.475)\n",
      "6. 就寝前の短時間のSNSチェック (Score: 0.475)\n",
      "7. 軽いテレビ番組を寝る前に少し見る (Score: 0.473)\n",
      "8. 週末だけ少し長めに昼寝を取る (Score: 0.470)\n",
      "9. 就寝前の長時間の電話 (Score: 0.468)\n",
      "10. 夕方に長時間の昼寝をする (Score: 0.467)\n",
      "\n",
      "Top 10 typical texts for Label 2:\n",
      "--------------------------------------------------\n",
      "1. 就寝前のストレッチで体をリラックスさせる (Score: 0.438)\n",
      "2. 就寝前の深呼吸でリラックスする (Score: 0.436)\n",
      "3. 寝る前にホットストーンを使ったリラックスを試す (Score: 0.427)\n",
      "4. 寝る前に楽しいことを考える (Score: 0.426)\n",
      "5. 寝る前に楽しいことを考える (Score: 0.426)\n",
      "6. 昼寝を30分程度とる (Score: 0.424)\n",
      "7. 寝る前のストレッチ (Score: 0.422)\n",
      "8. 寝る前に軽いジャーナリングをする (Score: 0.421)\n",
      "9. 就寝前の短時間の整理整頓 (Score: 0.418)\n",
      "10. 就寝前のセルフマッサージを行う (Score: 0.418)\n"
     ]
    }
   ],
   "source": [
    "for label in [0, 1, 2]:\n",
    "    print(f\"\\nTop 10 typical texts for Label {label}:\")\n",
    "    print(\"-\" * 50)\n",
    "\n",
    "    mask = df['GPT-4o'] == label\n",
    "    label_vecs = vecs[mask]\n",
    "    label_texts = df[mask]['text']\n",
    "\n",
    "    similarities = cosine_similarity(label_vecs)\n",
    "\n",
    "    centrality_scores = np.mean(similarities, axis=1)\n",
    "\n",
    "    top_indices = np.argsort(centrality_scores)[-10:][::-1]\n",
    "\n",
    "    for i, idx in enumerate(top_indices, 1):\n",
    "        score = centrality_scores[idx]\n",
    "        print(f\"{i}. {label_texts.iloc[idx]} (Score: {score:.3f})\")"
   ]
  },
  {
   "cell_type": "markdown",
   "metadata": {
    "id": "LXk5EFXVfyFF"
   },
   "source": [
    "#### Save vecs"
   ]
  },
  {
   "cell_type": "code",
   "execution_count": 12,
   "metadata": {
    "executionInfo": {
     "elapsed": 587,
     "status": "ok",
     "timestamp": 1738026555679,
     "user": {
      "displayName": "Haruto KAWABATA",
      "userId": "07629425452397739361"
     },
     "user_tz": -540
    },
    "id": "Lo4VLdxpdGm2"
   },
   "outputs": [],
   "source": [
    "np.save(vecs_out, vecs)"
   ]
  },
  {
   "cell_type": "code",
   "execution_count": 12,
   "metadata": {
    "executionInfo": {
     "elapsed": 2,
     "status": "ok",
     "timestamp": 1738026555680,
     "user": {
      "displayName": "Haruto KAWABATA",
      "userId": "07629425452397739361"
     },
     "user_tz": -540
    },
    "id": "RkHCk_erIC0b"
   },
   "outputs": [],
   "source": []
  }
 ],
 "metadata": {
  "colab": {
   "provenance": []
  },
  "kernelspec": {
   "display_name": "Python 3 (ipykernel)",
   "language": "python",
   "name": "python3"
  },
  "language_info": {
   "codemirror_mode": {
    "name": "ipython",
    "version": 3
   },
   "file_extension": ".py",
   "mimetype": "text/x-python",
   "name": "python",
   "nbconvert_exporter": "python",
   "pygments_lexer": "ipython3",
   "version": "3.9.15"
  }
 },
 "nbformat": 4,
 "nbformat_minor": 4
}
